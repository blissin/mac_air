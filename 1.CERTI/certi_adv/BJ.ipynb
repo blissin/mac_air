{
 "cells": [
  {
   "cell_type": "code",
   "execution_count": 10,
   "metadata": {},
   "outputs": [
    {
     "name": "stdout",
     "output_type": "stream",
     "text": [
      "4\n"
     ]
    }
   ],
   "source": [
    "a, b = map(int, input().split())\n",
    "print(a+b)"
   ]
  },
  {
   "cell_type": "code",
   "execution_count": 14,
   "metadata": {},
   "outputs": [
    {
     "name": "stdout",
     "output_type": "stream",
     "text": [
      "2360\n",
      "3776\n",
      "1416\n",
      "181720\n"
     ]
    }
   ],
   "source": [
    "\n",
    "a=int(input())\n",
    "b=input()\n",
    "print(a*int(b[-1]))\n",
    "print(a*int(b[-2]))\n",
    "print(a*int(b[-3]))\n",
    "print(a*int(b))"
   ]
  },
  {
   "cell_type": "code",
   "execution_count": 3,
   "metadata": {},
   "outputs": [
    {
     "name": "stdout",
     "output_type": "stream",
     "text": [
      "['3', '5', '477162 658880 751280 927930 297191', '5', '565469 851600 460874 148692 111090', '10', '784386 279993 982220 996285 614710 992232 195265 359810 919192 158175']\n"
     ]
    }
   ],
   "source": [
    "import sys\n",
    "\n",
    "# sys.stdin = open(\"input.txt\", \"r\")\n",
    "\n",
    "with open('sample_input.txt', 'r') as file:\n",
    "    x = file.read().splitlines()\n",
    "    print(x)\n"
   ]
  },
  {
   "cell_type": "code",
   "execution_count": 52,
   "metadata": {},
   "outputs": [
    {
     "name": "stdout",
     "output_type": "stream",
     "text": [
      "#1  630739\n",
      "#2  740510\n",
      "#3  838110\n"
     ]
    }
   ],
   "source": [
    "for i in range(int((len(x)-1)/2)):\n",
    "    temp=x[2+i*2].split()\n",
    "    temp=list(map(int,temp))\n",
    "    i+=1\n",
    "    print(f\"#{i} \",max(temp)-min(temp))    "
   ]
  },
  {
   "cell_type": "code",
   "execution_count": 1,
   "metadata": {},
   "outputs": [
    {
     "name": "stdout",
     "output_type": "stream",
     "text": [
      "#1  630739\n",
      "#2  740510\n",
      "#3  838110\n"
     ]
    }
   ],
   "source": [
    "# import sys\n",
    "\n",
    "with open('sample_input.txt', 'r') as file:\n",
    "    x = file.read().splitlines()\n",
    "    \n",
    "for i in range(int((len(x)-1)/2)):\n",
    "    temp=x[2+i*2].split()\n",
    "    temp=list(map(int,temp))\n",
    "    i+=1\n",
    "    print(f\"#{i} \",max(temp)-min(temp)) "
   ]
  },
  {
   "cell_type": "code",
   "execution_count": 11,
   "metadata": {},
   "outputs": [
    {
     "name": "stdout",
     "output_type": "stream",
     "text": [
      "#1  1\n"
     ]
    }
   ],
   "source": [
    "T = int(input())\n",
    "for test_case in range(1, T + 1):\n",
    "    a=int(input())\n",
    "    b=input().split()\n",
    "    b=list(map(int,b))\n",
    "    temp=max(b)-min(b)\n",
    "    print(f\"#{test_case} {temp}\")"
   ]
  },
  {
   "cell_type": "code",
   "execution_count": 58,
   "metadata": {},
   "outputs": [],
   "source": [
    "T = int(input())\n",
    "for test_case in range(1, T + 1):\n",
    "    a=input().split()\n",
    "    a=list(map(int,a))\n",
    "    b=input().split()\n",
    "    b=list(map(int,b))\n",
    "    K=a[0]\n",
    "    N=a[1]\n",
    "    M=a[2]\n",
    "temp=[0]*(N+1)\n",
    "for i in b:\n",
    "    temp[i]+=1\n"
   ]
  },
  {
   "cell_type": "code",
   "execution_count": 22,
   "metadata": {},
   "outputs": [
    {
     "name": "stdout",
     "output_type": "stream",
     "text": [
      "1 3\n",
      "2 4\n",
      "2 6\n",
      "#1 3\n"
     ]
    }
   ],
   "source": [
    "K=a[0]\n",
    "K_count=a[0]\n",
    "ii=0\n",
    "charge=0\n",
    "N=a[1]\n",
    "while K_count>0:\n",
    "    if temp[ii+K]==1:\n",
    "        K_count-=1\n",
    "        charge+=1\n",
    "        ii+=K-i\n",
    "        print('1',ii+K-1)\n",
    "    elif temp[ii+K-1]==1:\n",
    "        K_count-=1\n",
    "        charge+=1\n",
    "        ii+=K-1\n",
    "        print('2',ii+K-2)\n",
    "    elif temp[ii+K-2]==1:\n",
    "        K_count-=1\n",
    "        charge+=1\n",
    "        ii+=K-2\n",
    "        print('3',ii+K-3)\n",
    "    else:\n",
    "        print(f\"#{test_case}\", int(0))\n",
    "        break\n",
    "print(f\"#{test_case}\",charge)"
   ]
  },
  {
   "cell_type": "code",
   "execution_count": 63,
   "metadata": {},
   "outputs": [
    {
     "name": "stdout",
     "output_type": "stream",
     "text": [
      "#1 3\n"
     ]
    }
   ],
   "source": [
    "T = int(input())\n",
    "for test_case in range(1, T + 1):\n",
    "    a=input().split()\n",
    "    a=list(map(int,a))\n",
    "    b=input().split()\n",
    "    b=list(map(int,b))\n",
    "    K=a[0]\n",
    "    N=a[1]\n",
    "    M=a[2]\n",
    "    temp=[0]*(N+1)\n",
    "    for i in b:\n",
    "        temp[i]+=1\n",
    "\n",
    "    ii=0\n",
    "    charge=0\n",
    "\n",
    "    for i in range(M-1):\n",
    "        if b[i+1]-b[i] > K:\n",
    "            charge=0\n",
    "            break\n",
    "        else:\n",
    "            for i in range(K):\n",
    "                for j in range(K):\n",
    "                    if ii+K-j >= N:\n",
    "                        break\n",
    "                    elif temp[ii+K-j]==1:\n",
    "                        charge+=1\n",
    "                        ii=(ii+K-j)\n",
    "                        break\n",
    "            \n",
    "    print(f\"#{test_case}\",charge)"
   ]
  },
  {
   "cell_type": "code",
   "execution_count": 26,
   "metadata": {},
   "outputs": [],
   "source": [
    "T = int(input())\n",
    "for test_case in range(1, T + 1):\n",
    "    a=int(input())\n",
    "    box = []\n",
    "    for i in range(a):\n",
    "        b=list(map(int,input().split()))\n",
    "        box.append(b)\n"
   ]
  },
  {
   "cell_type": "code",
   "execution_count": 39,
   "metadata": {},
   "outputs": [],
   "source": [
    "box=[[0, 0, 0, 0, 0],\n",
    "[0, 0, 0, 0, 0],\n",
    "[0, 10, 0, 0, 0],\n",
    "[0, 0, 0, 0, 0],\n",
    "[0, 0, 0, 0, 0]]"
   ]
  },
  {
   "cell_type": "code",
   "execution_count": 41,
   "metadata": {},
   "outputs": [
    {
     "name": "stdout",
     "output_type": "stream",
     "text": [
      "   a  b   c  value  X  Y\n",
      "0  0  0  A1   0.76 -1 -2\n",
      "1  1  2  A2   0.51  0  1\n",
      "2  2  3  A3   0.61  1  2\n"
     ]
    }
   ],
   "source": [
    "import pandas as pd\n",
    "\n",
    "table1={\n",
    "    'a':[0, 1, 2],\n",
    "    'b':[0, 2, 3],\n",
    "    'c':['A1', 'A2', 'A3'],\n",
    "    'value':[0.76, 0.51, 0.61]\n",
    "}\n",
    "table2={\n",
    "    'a':[0, 1, 2],\n",
    "    'b':[0, 2, 3],\n",
    "    'c':['A1', 'A2', 'A3'],\n",
    "    'X':[-1, 0, 1],\n",
    "    'Y':[-2, 1, 2]\n",
    "}\n",
    "table1=pd.DataFrame(table1)\n",
    "table2=pd.DataFrame(table2)\n",
    "merged_table = pd.merge(table1, table2, how='left', on=['a', 'b', 'c'])\n",
    "print(merged_table)"
   ]
  },
  {
   "cell_type": "code",
   "execution_count": 12,
   "metadata": {},
   "outputs": [
    {
     "name": "stdout",
     "output_type": "stream",
     "text": [
      "4\n"
     ]
    }
   ],
   "source": [
    "# print((lambda x: x**2)([x for x in range(1,5)]))\n",
    "print((lambda x: x*2)(2))"
   ]
  }
 ],
 "metadata": {
  "kernelspec": {
   "display_name": "Python 3.9.12 ('coin')",
   "language": "python",
   "name": "python3"
  },
  "language_info": {
   "codemirror_mode": {
    "name": "ipython",
    "version": 3
   },
   "file_extension": ".py",
   "mimetype": "text/x-python",
   "name": "python",
   "nbconvert_exporter": "python",
   "pygments_lexer": "ipython3",
   "version": "3.9.12"
  },
  "orig_nbformat": 4,
  "vscode": {
   "interpreter": {
    "hash": "a77181fc8ed12697868dbe4c1d4e7aba69e7d66889fd00fd2a00ded106ef11e1"
   }
  }
 },
 "nbformat": 4,
 "nbformat_minor": 2
}
