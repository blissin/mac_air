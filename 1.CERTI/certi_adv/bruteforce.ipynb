{
 "cells": [
  {
   "cell_type": "code",
   "execution_count": 13,
   "metadata": {},
   "outputs": [
    {
     "name": "stdout",
     "output_type": "stream",
     "text": [
      "1 [1, 2, 3, 4, 5]\n",
      "2 [2, 1, 2, 3, 2, 4, 2, 5]\n",
      "3 [3, 3, 1, 1, 2, 2, 4, 4, 5, 5]\n",
      "0 1\n",
      "1 2\n",
      "2 3\n"
     ]
    }
   ],
   "source": [
    "import enum\n",
    "\n",
    "\n",
    "def solution(answers):\n",
    "    student = {1:[1,2,3,4,5], 2:[2,1,2,3,2,4,2,5], 3:[3,3,1,1,2,2,4,4,5,5]}\n",
    "    score = {1:0, 2:0, 3:0}\n",
    "\n",
    "    for idx, answer in enumerate(answers):\n",
    "        for key, value in student.items():\n",
    "            if answer == value[idx % len(value)]:\n",
    "                score[key] += 1\n",
    "                \n",
    "    highest = max(score.values())\n",
    "    result = [key for key, value in score.items() if value == highest]\n",
    "\n",
    "    return result\n",
    "\n",
    "answers=[2,1,2,4,5]\n",
    "result=solution(answers)\n",
    "# print(result)\n",
    "student = {1:[1,2,3,4,5], 2:[2,1,2,3,2,4,2,5], 3:[3,3,1,1,2,2,4,4,5,5]}\n",
    "for key, value in student.items():\n",
    "    print(key, value)\n",
    "\n",
    "for key, value in enumerate(student):\n",
    "    print(key, value)"
   ]
  },
  {
   "cell_type": "code",
   "execution_count": 22,
   "metadata": {},
   "outputs": [
    {
     "name": "stdout",
     "output_type": "stream",
     "text": [
      "deque([3, 4])\n",
      "deque([4, 5])\n",
      "deque([5])\n",
      "deque([2, 6])\n",
      "deque([6])\n",
      "deque([])\n",
      "[1, 3, 4, 5, 2, 6]\n",
      "[3, 4]\n",
      "[3]\n",
      "[5]\n",
      "[2, 6]\n",
      "[2]\n",
      "[]\n",
      "[1, 4, 3, 5, 6, 2]\n"
     ]
    }
   ],
   "source": [
    "from collections import deque\n",
    "\n",
    "def BFS_with_adj_list(graph, root):\n",
    "    visited = []\n",
    "    queue = deque([root])\n",
    "\n",
    "    while queue:\n",
    "        n = queue.popleft()\n",
    "        if n not in visited:\n",
    "            visited.append(n)\n",
    "            queue += graph[n] - set(visited)\n",
    "            print(queue)\n",
    "    return visited\n",
    "\n",
    "graph_list = {1: set([3, 4]),\n",
    "              2: set([3, 4, 5]),\n",
    "              3: set([1, 5]),\n",
    "              4: set([1]),\n",
    "              5: set([2, 6]),\n",
    "              6: set([3, 5])}\n",
    "root_node = 1\n",
    "  \n",
    "print(BFS_with_adj_list(graph_list, root_node))\n",
    "\n",
    "\n",
    "def DFS_with_adj_list(graph, root):\n",
    "    visited = []\n",
    "    stack = [root]\n",
    "\n",
    "    while stack:\n",
    "        n = stack.pop()\n",
    "        if n not in visited:\n",
    "            visited.append(n)\n",
    "            stack += graph[n] - set(visited)\n",
    "            print(stack)\n",
    "    return visited\n",
    "\n",
    "print(DFS_with_adj_list(graph_list, root_node))"
   ]
  },
  {
   "cell_type": "code",
   "execution_count": 23,
   "metadata": {},
   "outputs": [],
   "source": [
    "graph = {}\n",
    "n = input().split(' ')\n",
    "node, edge, start = [int(i) for i in n]\n",
    "for i in range(edge):\n",
    "    edge_info = input().split(' ')\n",
    "    n1, n2 = [int(j) for j in edge_info]\n",
    "    if n1 not in graph:\n",
    "        graph[n1] = [n2]\n",
    "    elif n2 not in graph[n1]:\n",
    "        graph[n1].append(n2)\n",
    "\n",
    "    if n2 not in graph:\n",
    "        graph[n2] = [n1]\n",
    "    elif n1 not in graph[n2]:\n",
    "        graph[n2].append(n1)"
   ]
  }
 ],
 "metadata": {
  "kernelspec": {
   "display_name": "Python 3.9.12 ('coin')",
   "language": "python",
   "name": "python3"
  },
  "language_info": {
   "codemirror_mode": {
    "name": "ipython",
    "version": 3
   },
   "file_extension": ".py",
   "mimetype": "text/x-python",
   "name": "python",
   "nbconvert_exporter": "python",
   "pygments_lexer": "ipython3",
   "version": "3.9.12"
  },
  "orig_nbformat": 4,
  "vscode": {
   "interpreter": {
    "hash": "a77181fc8ed12697868dbe4c1d4e7aba69e7d66889fd00fd2a00ded106ef11e1"
   }
  }
 },
 "nbformat": 4,
 "nbformat_minor": 2
}
