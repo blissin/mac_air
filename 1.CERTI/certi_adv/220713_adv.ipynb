{
 "cells": [
  {
   "cell_type": "code",
   "execution_count": 6,
   "metadata": {},
   "outputs": [
    {
     "name": "stdout",
     "output_type": "stream",
     "text": [
      "691\n"
     ]
    }
   ],
   "source": [
    "for test_case in range(1,11):\n",
    "    n=input()\n",
    "    a=list(map(int,input().split()))\n",
    "    count=0\n",
    "    for i in range(2,len(a)-2):\n",
    "        if (a[i]>a[i-1]) & (a[i]>a[i-2]) & (a[i]>a[i+1]) & (a[i]>a[i+2]):\n",
    "            t=[]\n",
    "            t.append(a[i]-a[i-2])\n",
    "            t.append(a[i]-a[i-1])\n",
    "            t.append(a[i]-a[i+1])\n",
    "            t.append(a[i]-a[i+2])\n",
    "            count+=min(t)\n",
    "    print(f'#{test_case} {count}')"
   ]
  },
  {
   "cell_type": "code",
   "execution_count": 3,
   "metadata": {},
   "outputs": [],
   "source": [
    "T = int(input())\n",
    "for test_case in range(1,T+1):\n",
    "    a=int(input())\n",
    "    hall_way = []\n",
    "    for i in range(a):\n",
    "        b=list(map(int,input().split()))\n",
    "        hall_way.append(b)\n",
    "\n",
    "    def find_0_loc(hall_way):\n",
    "        g_pos=[]\n",
    "        for i in range(a):\n",
    "            for j in range(a):\n",
    "                if hall_way[i][j]!=1:\n",
    "                    g_pos.append(i,j)\n",
    "\n",
    "        return g_pos\n",
    "    \n",
    "    def find_stop(g_pos, hall_way):\n",
    "        for ii in range(len(g_pos)):\n",
    "            y,x=g_pos[ii]\n",
    "            count=0\n",
    "            for jj in range(x+1,a):\n",
    "                if hall_way[y][jj]!=0:\n",
    "                    break\n",
    "                else:\n",
    "                    count+=1\n",
    "            for jj in range(x-1,-1,-1):\n",
    "                if hall_way[y][jj]!=0:\n",
    "                    break\n",
    "                else:\n",
    "                    count+=1\n",
    "            \n",
    "            for jj in range(y+1,a):\n",
    "                if hall_way[jj][x]!=0:\n",
    "                    break\n",
    "                else:\n",
    "                    count+=1\n",
    "            for jj in range(y-1,-1,-1):\n",
    "                if hall_way[jj][x]!=0:\n",
    "                    break\n",
    "                else:\n",
    "                    count+=1\n",
    "            \n",
    "            g_pos[ii].append(count+1)\n",
    "        \n",
    "        g_surv = sorted(g_pos, key=lambda x : x[2], reversed=True)\n",
    "\n",
    "        return g_surv\n",
    "    \n",
    "    def surveillance(g_surv, hall_way):\n",
    "        y,x,z = g_surv\n",
    "        for jj in range(x,a):\n",
    "            if hall_way[y][jj] == 1:\n",
    "                break\n",
    "            else:\n",
    "                hall_way[y][jj] += 2\n",
    "        for jj in range(x,-1,-1):\n",
    "            if hall_way[y][jj] == 1:\n",
    "                break\n",
    "            else:\n",
    "                hall_way[y][jj] += 2\n",
    "        \n",
    "        for jj in range(y,a):\n",
    "            if hall_way[jj][x] == 1:\n",
    "                break\n",
    "            else:\n",
    "                hall_way[jj][x] += 2\n",
    "        for jj in range(y,-1,-1):\n",
    "            if hall_way[jj][x] == 1:\n",
    "                break\n",
    "            else:\n",
    "                hall_way[jj][x] += 2\n",
    "    \n",
    "        return hall_way\n",
    "\n",
    "    new_hall_way = hall_way.copy()\n",
    "    for i in range(3):\n",
    "        g_pos = find_0_loc(new_hall_way)\n",
    "        g_surv = find_stop(g_pos, new_hall_way)\n",
    "        new_hall_way = surveillance(g_surv[0], new_hall_way)\n",
    "    \n",
    "    count_0 = 0\n",
    "    for i in range(a):\n",
    "        count_0 += new_hall_way[i].count(0)\n",
    "    \n",
    "    print(f'#{test_case}', count_0)"
   ]
  },
  {
   "cell_type": "code",
   "execution_count": 7,
   "metadata": {},
   "outputs": [
    {
     "name": "stdout",
     "output_type": "stream",
     "text": [
      "[[0, 0, 3], [0, 3, 2], [2, 1, 2], [0, 2, 1]]\n"
     ]
    }
   ],
   "source": [
    "g_pos = [[0,0,3], [0,2,1], [0,3,2], [2,1,2]]\n",
    "g_pos.sort(key=lambda x : x[2], reverse=True)\n",
    "print(g_pos)"
   ]
  },
  {
   "cell_type": "code",
   "execution_count": 8,
   "metadata": {},
   "outputs": [
    {
     "name": "stdout",
     "output_type": "stream",
     "text": [
      "[('but', 3), ('i', 1), ('wont', 4), ('hesitate', 8), ('no', 2), ('more', 4), ('no', 2), ('more', 4), ('it', 2), ('cannot', 6), ('wait', 4), ('im', 2), ('yours', 5)]\n"
     ]
    }
   ],
   "source": [
    "data_list = ['but','i','wont','hesitate','no','more','no','more','it','cannot','wait','im','yours']\n",
    "\n",
    "for index in range(len(data_list)) : \n",
    "    data_len = len(data_list[index])\n",
    "    data_list[index] = (data_list[index], data_len)\n",
    "print(data_list)"
   ]
  },
  {
   "cell_type": "code",
   "execution_count": null,
   "metadata": {},
   "outputs": [],
   "source": []
  }
 ],
 "metadata": {
  "kernelspec": {
   "display_name": "Python 3.9.12 ('coin')",
   "language": "python",
   "name": "python3"
  },
  "language_info": {
   "codemirror_mode": {
    "name": "ipython",
    "version": 3
   },
   "file_extension": ".py",
   "mimetype": "text/x-python",
   "name": "python",
   "nbconvert_exporter": "python",
   "pygments_lexer": "ipython3",
   "version": "3.9.12"
  },
  "orig_nbformat": 4,
  "vscode": {
   "interpreter": {
    "hash": "a77181fc8ed12697868dbe4c1d4e7aba69e7d66889fd00fd2a00ded106ef11e1"
   }
  }
 },
 "nbformat": 4,
 "nbformat_minor": 2
}
