{
 "cells": [
  {
   "cell_type": "code",
   "execution_count": null,
   "metadata": {},
   "outputs": [],
   "source": [
    "import numpy as np\n",
    "from sklearn.linear_model import LinearRegression\n",
    "from sklearn.metrics import r2_score\n",
    "\n",
    "'''\n",
    "./data/Advertising.csv 에서 데이터를 읽어, X와 Y를 만듭니다.\n",
    "\n",
    "X는 (200, 3) 의 shape을 가진 2차원 np.array,\n",
    "Y는 (200,) 의 shape을 가진 1차원 np.array여야 합니다.\n",
    "\n",
    "X는 FB, TV, Newspaper column 에 해당하는 데이터를 저장해야 합니다.\n",
    "Y는 Sales column 에 해당하는 데이터를 저장해야 합니다.\n",
    "'''\n",
    "\n",
    "import csv\n",
    "csvreader = csv.reader(open(\"data/Advertising.csv\"))\n",
    "\n",
    "x = []\n",
    "y = []\n",
    "\n",
    "next(csvreader)\n",
    "for line in csvreader :\n",
    "    x_i = [ float(line[1]), float(line[2]), float(line[3]) ]\n",
    "    y_i = float(line[4])\n",
    "    x.append(x_i)\n",
    "    y.append(y_i)\n",
    "\n",
    "X = np.array(x)\n",
    "Y = np.array(y)\n",
    "\n",
    "lrmodel = LinearRegression()\n",
    "lrmodel.fit(X, Y)\n",
    "\n",
    "beta_0 = lrmodel.coef_[0] # 0번째 변수에 대한 계수 (페이스북)\n",
    "beta_1 = lrmodel.coef_[1] # 1번째 변수에 대한 계수 (TV)\n",
    "beta_2 = lrmodel.coef_[2] # 2번째 변수에 대한 계수 (신문)\n",
    "beta_3 = lrmodel.intercept_ # y절편 (기본 판매량)\n",
    "\n",
    "print(\"beta_0: %f\" % beta_0)\n",
    "print(\"beta_1: %f\" % beta_1)\n",
    "print(\"beta_2: %f\" % beta_2)\n",
    "print(\"beta_3: %f\" % beta_3)\n",
    "\n",
    "def expected_sales(fb, tv, newspaper, beta_0, beta_1, beta_2, beta_3):\n",
    "    '''\n",
    "    FB에 fb만큼, TV에 tv만큼, Newspaper에 newspaper 만큼의 광고비를 사용했고,\n",
    "    트레이닝된 모델의 weight 들이 beta_0, beta_1, beta_2, beta_3 일 때\n",
    "    예상되는 Sales 의 양을 출력합니다.\n",
    "    '''\n",
    "    sales=beta_0*fb + beta_1*tv + beta_2*newspaper + beta_3\n",
    "    return sales\n",
    "\n",
    "print(\"예상 판매량: %f\" % expected_sales(10, 12, 3, beta_0, beta_1, beta_2, beta_3))"
   ]
  }
 ],
 "metadata": {
  "kernelspec": {
   "display_name": "Python 3.9.12 ('coin')",
   "language": "python",
   "name": "python3"
  },
  "language_info": {
   "name": "python",
   "version": "3.9.12"
  },
  "orig_nbformat": 4,
  "vscode": {
   "interpreter": {
    "hash": "a77181fc8ed12697868dbe4c1d4e7aba69e7d66889fd00fd2a00ded106ef11e1"
   }
  }
 },
 "nbformat": 4,
 "nbformat_minor": 2
}
