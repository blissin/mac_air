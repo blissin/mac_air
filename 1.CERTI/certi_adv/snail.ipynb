{
 "cells": [
  {
   "cell_type": "code",
   "execution_count": 63,
   "metadata": {},
   "outputs": [
    {
     "name": "stdout",
     "output_type": "stream",
     "text": [
      "#1\n",
      "1 2 3 \n",
      "8 9 4 \n",
      "7 6 5 \n"
     ]
    }
   ],
   "source": [
    "T=int(input())\n",
    "for test_case in range(1,T+1):\n",
    "    a=int(input())\n",
    "    temp=[[0]*a for _ in range(a)]\n",
    "    # print(temp)\n",
    "    x=0\n",
    "    y=0\n",
    "    tm=0\n",
    "    count=1\n",
    "    while a>1:\n",
    "        while x<a:\n",
    "            x+=1\n",
    "            tm+=1\n",
    "            temp[y][x-1]=tm\n",
    "        while y<a-1:\n",
    "            y+=1\n",
    "            tm+=1\n",
    "            temp[y][x-1]=tm\n",
    "        while x>count:\n",
    "            x-=1\n",
    "            tm+=1\n",
    "            temp[y][x-1]=tm\n",
    "        while y>count:\n",
    "            y-=1\n",
    "            tm+=1\n",
    "            temp[y][x-1]=tm\n",
    "\n",
    "        count+=1\n",
    "        a-=1\n",
    "        \n",
    "    print(f'#{test_case}')\n",
    "    for i in range(len(temp)):\n",
    "        x=temp[i]\n",
    "        for jj in range(len(temp)):\n",
    "            print(x[jj], end=\" \")\n",
    "        print()    \n",
    "        \n",
    "    # for i in range(a):\n",
    "        # print(x[i], end=\" \")\n",
    "            "
   ]
  },
  {
   "cell_type": "code",
   "execution_count": 59,
   "metadata": {},
   "outputs": [
    {
     "name": "stdout",
     "output_type": "stream",
     "text": [
      "2\n"
     ]
    }
   ],
   "source": [
    "print(x[1])"
   ]
  }
 ],
 "metadata": {
  "kernelspec": {
   "display_name": "Python 3.9.12 ('coin')",
   "language": "python",
   "name": "python3"
  },
  "language_info": {
   "codemirror_mode": {
    "name": "ipython",
    "version": 3
   },
   "file_extension": ".py",
   "mimetype": "text/x-python",
   "name": "python",
   "nbconvert_exporter": "python",
   "pygments_lexer": "ipython3",
   "version": "3.9.12"
  },
  "orig_nbformat": 4,
  "vscode": {
   "interpreter": {
    "hash": "a77181fc8ed12697868dbe4c1d4e7aba69e7d66889fd00fd2a00ded106ef11e1"
   }
  }
 },
 "nbformat": 4,
 "nbformat_minor": 2
}
