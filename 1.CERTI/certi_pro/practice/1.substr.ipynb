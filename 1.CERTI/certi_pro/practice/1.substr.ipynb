{
 "cells": [
  {
   "cell_type": "code",
   "execution_count": 1,
   "metadata": {},
   "outputs": [
    {
     "name": "stdout",
     "output_type": "stream",
     "text": [
      "tsett\n"
     ]
    }
   ],
   "source": [
    "S=input()\n",
    "\n",
    "def substr(S):\n",
    "    word = S.split()\n",
    "    output_word = []\n",
    "    for i in range(len(word)):\n",
    "        if i%2==1:\n",
    "            output_word.append(word[i])\n",
    "    output=''           \n",
    "    for i in range(len(output_word)):\n",
    "        output += output_word[len(output_word)-i-1]+' '\n",
    "    return output[0:-1]\n",
    "    \n",
    "print(substr(S))"
   ]
  }
 ],
 "metadata": {
  "kernelspec": {
   "display_name": "base",
   "language": "python",
   "name": "python3"
  },
  "language_info": {
   "codemirror_mode": {
    "name": "ipython",
    "version": 3
   },
   "file_extension": ".py",
   "mimetype": "text/x-python",
   "name": "python",
   "nbconvert_exporter": "python",
   "pygments_lexer": "ipython3",
   "version": "3.9.7"
  },
  "orig_nbformat": 4
 },
 "nbformat": 4,
 "nbformat_minor": 2
}
