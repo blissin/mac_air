{
 "cells": [
  {
   "cell_type": "code",
   "execution_count": 7,
   "metadata": {},
   "outputs": [
    {
     "name": "stdout",
     "output_type": "stream",
     "text": [
      "[3, 3, 2, 2]\n",
      "8\n"
     ]
    }
   ],
   "source": [
    "n = int(input())  # 책의 개수\n",
    "prices = []\n",
    "for i in range(n):\n",
    "    prices.append(int(input()))\n",
    "# prices = sorted(list(map(int, input().split())), reverse=True)  # 각 책의 가격을 내림차순으로 정렬\n",
    "prices = sorted(prices, reverse=True)\n",
    "\n",
    "total_price = 0  # 총 가격을 0으로 초기화\n",
    "for i in range(n):  # 각 꾸러미마다 가장 비싼 책을 제외한 나머지 두 권의 가격을 계산하여 총 가격에 더함\n",
    "    if i % 3 != 2:  # 3으로 나눈 나머지가 2가 아니면(가장 비싼 책을 포함하는 꾸러미)\n",
    "        total_price += prices[i]\n",
    "print(total_price)"
   ]
  }
 ],
 "metadata": {
  "kernelspec": {
   "display_name": "base",
   "language": "python",
   "name": "python3"
  },
  "language_info": {
   "codemirror_mode": {
    "name": "ipython",
    "version": 3
   },
   "file_extension": ".py",
   "mimetype": "text/x-python",
   "name": "python",
   "nbconvert_exporter": "python",
   "pygments_lexer": "ipython3",
   "version": "3.9.7"
  },
  "orig_nbformat": 4
 },
 "nbformat": 4,
 "nbformat_minor": 2
}
