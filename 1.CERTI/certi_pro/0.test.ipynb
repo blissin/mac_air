{
 "cells": [
  {
   "cell_type": "code",
   "execution_count": 1,
   "metadata": {},
   "outputs": [],
   "source": [
    "def test():\n",
    "    return 0\n",
    "#test"
   ]
  },
  {
   "cell_type": "code",
   "execution_count": 2,
   "metadata": {},
   "outputs": [
    {
     "name": "stdout",
     "output_type": "stream",
     "text": [
      "[[4 5 6]]\n"
     ]
    }
   ],
   "source": [
    "import numpy as np\n",
    "\n",
    "# Assuming you have the data stored as NumPy arrays or lists\n",
    "data = np.array([[1, 2, 3], [4, 5, 6], [7, 8, 9]])\n",
    "data2 = np.array([[4, 5, 6], [10, 11, 12]])\n",
    "\n",
    "# Extract the columns 2 and 3 from data and data2\n",
    "data_subset = data[:, 1:3]\n",
    "data2_subset = data2[:, 1:3]\n",
    "\n",
    "# Check if the rows in data_subset exist in data2_subset\n",
    "mask = np.isin(data_subset, data2_subset)\n",
    "\n",
    "# Filter the rows in data using the mask\n",
    "result = data[mask[:, 0] & mask[:, 1]]\n",
    "\n",
    "print(result)\n"
   ]
  },
  {
   "cell_type": "code",
   "execution_count": 3,
   "metadata": {},
   "outputs": [
    {
     "data": {
      "text/plain": [
       "(array([[1, 2, 3],\n",
       "        [4, 5, 6],\n",
       "        [7, 8, 9]]),\n",
       " array([[ 4,  5,  6],\n",
       "        [10, 11, 12]]))"
      ]
     },
     "execution_count": 3,
     "metadata": {},
     "output_type": "execute_result"
    }
   ],
   "source": [
    "data, data2"
   ]
  },
  {
   "cell_type": "code",
   "execution_count": 8,
   "metadata": {},
   "outputs": [
    {
     "data": {
      "text/plain": [
       "(array([[2, 3],\n",
       "        [5, 6],\n",
       "        [8, 9]]),\n",
       " array([[ 5,  6],\n",
       "        [11, 12]]))"
      ]
     },
     "execution_count": 8,
     "metadata": {},
     "output_type": "execute_result"
    }
   ],
   "source": [
    "data_subset, data2_subset"
   ]
  },
  {
   "cell_type": "code",
   "execution_count": 11,
   "metadata": {},
   "outputs": [
    {
     "data": {
      "text/plain": [
       "array([[False, False],\n",
       "       [ True,  True],\n",
       "       [False, False]])"
      ]
     },
     "execution_count": 11,
     "metadata": {},
     "output_type": "execute_result"
    }
   ],
   "source": [
    "mask"
   ]
  },
  {
   "cell_type": "code",
   "execution_count": 15,
   "metadata": {},
   "outputs": [
    {
     "name": "stdout",
     "output_type": "stream",
     "text": [
      "[1, 2, 7, 4, 3]\n",
      "[2, 3, 7, 4]\n"
     ]
    }
   ],
   "source": [
    "import heapq\n",
    "\n",
    "min_heap = []\n",
    "\n",
    "heapq.heappush(min_heap, 4)\n",
    "heapq.heappush(min_heap, 1)\n",
    "heapq.heappush(min_heap, 7)\n",
    "heapq.heappush(min_heap, 3)\n",
    "heapq.heappush(min_heap, 2)\n",
    "\n",
    "print(min_heap)\n",
    "min_value = heapq.heappop(min_heap)\n",
    "print(min_heap)\n"
   ]
  },
  {
   "cell_type": "code",
   "execution_count": 1,
   "metadata": {},
   "outputs": [
    {
     "name": "stdout",
     "output_type": "stream",
     "text": [
      "[1, 4, 7]\n",
      "[2, 5, 8]\n",
      "[3, 6, 9]\n"
     ]
    }
   ],
   "source": [
    "# 원래 2차원 배열\n",
    "original_array = [\n",
    "    [1, 2, 3],\n",
    "    [4, 5, 6],\n",
    "    [7, 8, 9]\n",
    "]\n",
    "\n",
    "# 가로와 세로 변경된 2차원 배열\n",
    "transposed_array = [list(row) for row in zip(*original_array)]\n",
    "\n",
    "# 결과 출력\n",
    "for row in transposed_array:\n",
    "    print(row)"
   ]
  },
  {
   "cell_type": "code",
   "execution_count": 4,
   "metadata": {},
   "outputs": [
    {
     "data": {
      "text/plain": [
       "<zip at 0x7fd2c0d4a940>"
      ]
     },
     "execution_count": 4,
     "metadata": {},
     "output_type": "execute_result"
    }
   ],
   "source": [
    "zip(*original_array)"
   ]
  }
 ],
 "metadata": {
  "kernelspec": {
   "display_name": "base",
   "language": "python",
   "name": "python3"
  },
  "language_info": {
   "codemirror_mode": {
    "name": "ipython",
    "version": 3
   },
   "file_extension": ".py",
   "mimetype": "text/x-python",
   "name": "python",
   "nbconvert_exporter": "python",
   "pygments_lexer": "ipython3",
   "version": "3.9.7"
  },
  "orig_nbformat": 4
 },
 "nbformat": 4,
 "nbformat_minor": 2
}
