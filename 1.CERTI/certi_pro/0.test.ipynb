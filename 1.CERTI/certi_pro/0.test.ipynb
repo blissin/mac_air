{
 "cells": [
  {
   "cell_type": "code",
   "execution_count": null,
   "metadata": {},
   "outputs": [],
   "source": [
    "import heapq\n",
    "\n",
    "def dijkstra(graph, start):\n",
    "    # 각 정점까지의 현재 최단 거리를 무한대로 초기화\n",
    "    distance = {node: float('inf') for node in graph}\n",
    "    # 시작 정점의 최단 거리는 0으로 설정\n",
    "    distance[start] = 0\n",
    "    # 시작 정점을 포함한 우선순위 큐를 초기화\n",
    "    priority_queue = [(0, start)]\n",
    "\n",
    "    while priority_queue:\n",
    "        # 현재까지의 최단 거리와 정점을 추출\n",
    "        current_distance, current_node = heapq.heappop(priority_queue)\n",
    "\n",
    "        # 현재 노드의 최단 거리가 이미 업데이트된 경우, 무시\n",
    "        if current_distance > distance[current_node]:\n",
    "            continue\n",
    "\n",
    "        # 현재 노드의 인접 정점을 순회\n",
    "        for neighbor, weight in graph[current_node].items():\n",
    "            # 현재 노드를 통해 가는 거리\n",
    "            distance_through_current = current_distance + weight\n",
    "\n",
    "            # 더 짧은 거리를 찾았을 경우 업데이트\n",
    "            if distance_through_current < distance[neighbor]:\n",
    "                distance[neighbor] = distance_through_current\n",
    "                # 우선순위 큐에 업데이트된 거리와 정점 추가\n",
    "                heapq.heappush(priority_queue, (distance_through_current, neighbor))\n",
    "\n",
    "    return distance\n",
    "\n",
    "# 그래프 예제\n",
    "graph = {\n",
    "    'A': {'B': 1, 'C': 4},\n",
    "    'B': {'A': 1, 'C': 2, 'D': 5},\n",
    "    'C': {'A': 4, 'B': 2, 'D': 1},\n",
    "    'D': {'B': 5, 'C': 1}\n",
    "}\n",
    "\n",
    "start_node = 'A'\n",
    "shortest_distances = dijkstra(graph, start_node)\n",
    "\n",
    "# 결과 출력\n",
    "for node, distance in shortest_distances.items():\n",
    "    print(f'Shortest distance from {start_node} to {node}: {distance}')\n"
   ]
  },
  {
   "cell_type": "code",
   "execution_count": 4,
   "metadata": {},
   "outputs": [
    {
     "name": "stdout",
     "output_type": "stream",
     "text": [
      "DFS 탐색 결과:\n",
      "0 [True, False, False, False, False, False]\n",
      "1 [True, True, False, False, False, False]\n",
      "3 [True, True, False, True, False, False]\n",
      "4 [True, True, False, True, True, False]\n",
      "2 [True, True, True, True, True, False]\n",
      "5 [True, True, True, True, True, True]\n"
     ]
    }
   ],
   "source": [
    "def dfs(graph, node, visited):\n",
    "    # 현재 노드를 방문 처리\n",
    "    visited[node] = True\n",
    "    print(node, end=' ')\n",
    "    print(visited)\n",
    "\n",
    "    # 현재 노드와 연결된 모든 인접 노드를 재귀적으로 방문\n",
    "    for neighbor in graph[node]:\n",
    "        if not visited[neighbor]:\n",
    "            dfs(graph, neighbor, visited)\n",
    "\n",
    "# 예시 그래프 (인접 리스트로 표현)\n",
    "graph = {\n",
    "    0: [1, 2],\n",
    "    1: [0, 3, 4],\n",
    "    2: [0, 5],\n",
    "    3: [1],\n",
    "    4: [1],\n",
    "    5: [2]\n",
    "}\n",
    "\n",
    "# 노드의 방문 여부를 나타내는 배열\n",
    "visited = [False] * len(graph)\n",
    "\n",
    "# 시작 노드를 지정하여 DFS 실행\n",
    "start_node = 0\n",
    "print(\"DFS 탐색 결과:\")\n",
    "dfs(graph, start_node, visited)\n"
   ]
  },
  {
   "cell_type": "code",
   "execution_count": 6,
   "metadata": {},
   "outputs": [
    {
     "name": "stdout",
     "output_type": "stream",
     "text": [
      "BFS 탐색 결과:\n",
      "0 [True, False, False, False, False, False]\n",
      "1 [True, True, True, False, False, False]\n",
      "2 [True, True, True, True, True, False]\n",
      "3 [True, True, True, True, True, True]\n",
      "4 [True, True, True, True, True, True]\n",
      "5 [True, True, True, True, True, True]\n"
     ]
    }
   ],
   "source": [
    "from collections import deque\n",
    "\n",
    "def bfs(graph, start):\n",
    "    visited = [False] * len(graph)  # 노드의 방문 여부를 나타내는 배열\n",
    "    queue = deque()  # 큐를 사용하여 너비 우선 탐색을 구현\n",
    "\n",
    "    # 시작 노드를 큐에 추가하고 방문 처리\n",
    "    queue.append(start)\n",
    "    visited[start] = True\n",
    "\n",
    "    while queue:\n",
    "        node = queue.popleft()  # 큐에서 노드를 꺼내서 출력\n",
    "        print(node, end=' ')\n",
    "        print(visited)\n",
    "\n",
    "        # 현재 노드와 연결된 모든 인접 노드를 큐에 추가하고 방문 처리\n",
    "        for neighbor in graph[node]:\n",
    "            if not visited[neighbor]:\n",
    "                queue.append(neighbor)\n",
    "                visited[neighbor] = True\n",
    "\n",
    "# 예시 그래프 (인접 리스트로 표현)\n",
    "graph = {\n",
    "    0: [1, 2],\n",
    "    1: [0, 3, 4],\n",
    "    2: [0, 5],\n",
    "    3: [1],\n",
    "    4: [1],\n",
    "    5: [2]\n",
    "}\n",
    "\n",
    "# 시작 노드를 지정하여 BFS 실행\n",
    "start_node = 0\n",
    "print(\"BFS 탐색 결과:\")\n",
    "bfs(graph, start_node)\n"
   ]
  },
  {
   "cell_type": "code",
   "execution_count": 2,
   "metadata": {},
   "outputs": [],
   "source": [
    "def test():\n",
    "    return 0\n",
    "#test"
   ]
  },
  {
   "cell_type": "code",
   "execution_count": 2,
   "metadata": {},
   "outputs": [
    {
     "name": "stdout",
     "output_type": "stream",
     "text": [
      "[[4 5 6]]\n"
     ]
    }
   ],
   "source": [
    "import numpy as np\n",
    "\n",
    "# Assuming you have the data stored as NumPy arrays or lists\n",
    "data = np.array([[1, 2, 3], [4, 5, 6], [7, 8, 9]])\n",
    "data2 = np.array([[4, 5, 6], [10, 11, 12]])\n",
    "\n",
    "# Extract the columns 2 and 3 from data and data2\n",
    "data_subset = data[:, 1:3]\n",
    "data2_subset = data2[:, 1:3]\n",
    "\n",
    "# Check if the rows in data_subset exist in data2_subset\n",
    "mask = np.isin(data_subset, data2_subset)\n",
    "\n",
    "# Filter the rows in data using the mask\n",
    "result = data[mask[:, 0] & mask[:, 1]]\n",
    "\n",
    "print(result)\n"
   ]
  },
  {
   "cell_type": "code",
   "execution_count": 3,
   "metadata": {},
   "outputs": [
    {
     "data": {
      "text/plain": [
       "(array([[1, 2, 3],\n",
       "        [4, 5, 6],\n",
       "        [7, 8, 9]]),\n",
       " array([[ 4,  5,  6],\n",
       "        [10, 11, 12]]))"
      ]
     },
     "execution_count": 3,
     "metadata": {},
     "output_type": "execute_result"
    }
   ],
   "source": [
    "data, data2"
   ]
  },
  {
   "cell_type": "code",
   "execution_count": 8,
   "metadata": {},
   "outputs": [
    {
     "data": {
      "text/plain": [
       "(array([[2, 3],\n",
       "        [5, 6],\n",
       "        [8, 9]]),\n",
       " array([[ 5,  6],\n",
       "        [11, 12]]))"
      ]
     },
     "execution_count": 8,
     "metadata": {},
     "output_type": "execute_result"
    }
   ],
   "source": [
    "data_subset, data2_subset"
   ]
  },
  {
   "cell_type": "code",
   "execution_count": 11,
   "metadata": {},
   "outputs": [
    {
     "data": {
      "text/plain": [
       "array([[False, False],\n",
       "       [ True,  True],\n",
       "       [False, False]])"
      ]
     },
     "execution_count": 11,
     "metadata": {},
     "output_type": "execute_result"
    }
   ],
   "source": [
    "mask"
   ]
  },
  {
   "cell_type": "code",
   "execution_count": 15,
   "metadata": {},
   "outputs": [
    {
     "name": "stdout",
     "output_type": "stream",
     "text": [
      "[1, 2, 7, 4, 3]\n",
      "[2, 3, 7, 4]\n"
     ]
    }
   ],
   "source": [
    "import heapq\n",
    "\n",
    "min_heap = []\n",
    "\n",
    "heapq.heappush(min_heap, 4)\n",
    "heapq.heappush(min_heap, 1)\n",
    "heapq.heappush(min_heap, 7)\n",
    "heapq.heappush(min_heap, 3)\n",
    "heapq.heappush(min_heap, 2)\n",
    "\n",
    "print(min_heap)\n",
    "min_value = heapq.heappop(min_heap)\n",
    "print(min_heap)\n"
   ]
  },
  {
   "cell_type": "code",
   "execution_count": 1,
   "metadata": {},
   "outputs": [
    {
     "name": "stdout",
     "output_type": "stream",
     "text": [
      "[1, 4, 7]\n",
      "[2, 5, 8]\n",
      "[3, 6, 9]\n"
     ]
    }
   ],
   "source": [
    "# 원래 2차원 배열\n",
    "original_array = [\n",
    "    [1, 2, 3],\n",
    "    [4, 5, 6],\n",
    "    [7, 8, 9]\n",
    "]\n",
    "\n",
    "# 가로와 세로 변경된 2차원 배열\n",
    "transposed_array = [list(row) for row in zip(*original_array)]\n",
    "\n",
    "# 결과 출력\n",
    "for row in transposed_array:\n",
    "    print(row)"
   ]
  },
  {
   "cell_type": "code",
   "execution_count": 4,
   "metadata": {},
   "outputs": [
    {
     "data": {
      "text/plain": [
       "<zip at 0x7fd2c0d4a940>"
      ]
     },
     "execution_count": 4,
     "metadata": {},
     "output_type": "execute_result"
    }
   ],
   "source": [
    "zip(*original_array)"
   ]
  }
 ],
 "metadata": {
  "kernelspec": {
   "display_name": "base",
   "language": "python",
   "name": "python3"
  },
  "language_info": {
   "codemirror_mode": {
    "name": "ipython",
    "version": 3
   },
   "file_extension": ".py",
   "mimetype": "text/x-python",
   "name": "python",
   "nbconvert_exporter": "python",
   "pygments_lexer": "ipython3",
   "version": "3.11.4"
  },
  "orig_nbformat": 4
 },
 "nbformat": 4,
 "nbformat_minor": 2
}
