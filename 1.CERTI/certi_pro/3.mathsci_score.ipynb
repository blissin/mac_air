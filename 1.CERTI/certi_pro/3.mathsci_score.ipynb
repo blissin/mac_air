{
 "cells": [
  {
   "cell_type": "code",
   "execution_count": 15,
   "metadata": {},
   "outputs": [],
   "source": [
    "math_scores=[]\n",
    "sci_scores=[]\n",
    "for _ in range(5):\n",
    "    math_score, sci_score = map(int, input().split())\n",
    "   \n",
    "    math_scores.append(math_score)\n",
    "    sci_scores.append(sci_score)\n",
    "\n",
    "n=int(input())\n",
    "\n",
    "if n == 1:\n",
    "    sorted_indices = sorted(range(5), key=lambda x: math_scores[x], reverse=True)\n",
    "elif n == 2:\n",
    "    sorted_indices = sorted(range(5), key=lambda x: sci_scores[x], reverse=True)\n",
    "else :\n",
    "    total_scores = [math_scores[i] + sci_scores[i] for i in range(5)]\n",
    "    sorted_indices = sorted(range(5), key=lambda x: total_scores[x], reverse=True)\n",
    "\n",
    "for i in sorted_indices:\n",
    "    print(i+1, end=\" \")\n",
    "\n",
    "    "
   ]
  },
  {
   "cell_type": "code",
   "execution_count": 17,
   "metadata": {},
   "outputs": [
    {
     "name": "stdout",
     "output_type": "stream",
     "text": [
      "[70, 34, 90, 23, 60]\n",
      "[55, 60, 50, 90, 70]\n"
     ]
    }
   ],
   "source": [
    "print(math_scores)\n",
    "print(sci_scores)"
   ]
  },
  {
   "cell_type": "code",
   "execution_count": 31,
   "metadata": {},
   "outputs": [
    {
     "data": {
      "text/plain": [
       "[2, 0, 4, 1, 3]"
      ]
     },
     "execution_count": 31,
     "metadata": {},
     "output_type": "execute_result"
    }
   ],
   "source": [
    "sorted_indices = sorted(range(5), key=lambda x: math_scores[x], reverse=True)\n",
    "sorted_indices"
   ]
  },
  {
   "cell_type": "code",
   "execution_count": 27,
   "metadata": {},
   "outputs": [
    {
     "data": {
      "text/plain": [
       "[23, 34, 60, 70, 90]"
      ]
     },
     "execution_count": 27,
     "metadata": {},
     "output_type": "execute_result"
    }
   ],
   "source": [
    "sorted_indices = sorted(math_scores, key=lambda x: [x])\n",
    "sorted_indices     "
   ]
  },
  {
   "cell_type": "code",
   "execution_count": 30,
   "metadata": {},
   "outputs": [
    {
     "data": {
      "text/plain": [
       "<function __main__.<lambda>(x)>"
      ]
     },
     "execution_count": 30,
     "metadata": {},
     "output_type": "execute_result"
    }
   ],
   "source": [
    "key=lambda x: [x]\n",
    "key"
   ]
  }
 ],
 "metadata": {
  "kernelspec": {
   "display_name": "base",
   "language": "python",
   "name": "python3"
  },
  "language_info": {
   "codemirror_mode": {
    "name": "ipython",
    "version": 3
   },
   "file_extension": ".py",
   "mimetype": "text/x-python",
   "name": "python",
   "nbconvert_exporter": "python",
   "pygments_lexer": "ipython3",
   "version": "3.9.7"
  },
  "orig_nbformat": 4
 },
 "nbformat": 4,
 "nbformat_minor": 2
}
