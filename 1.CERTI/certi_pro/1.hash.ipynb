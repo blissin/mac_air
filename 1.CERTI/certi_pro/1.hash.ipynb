{
 "cells": [
  {
   "cell_type": "code",
   "execution_count": null,
   "metadata": {},
   "outputs": [],
   "source": [
    "db = {}\n",
    "\n",
    "# 검색 횟수 입력\n",
    "Q = int(input())\n",
    "\n",
    "# 검색과 DB 관리\n",
    "for _ in range(Q):\n",
    "    string = input().strip()  # 입력 문자열\n",
    "\n",
    "    # 문자열이 DB에 있는지 확인하고 있으면 제거, 없으면 추가\n",
    "    if string in db:\n",
    "        del db[string]\n",
    "    else:\n",
    "        db[string] = True\n",
    "\n",
    "# DB에 등록된 문자열 개수 출력\n",
    "print(len(db))"
   ]
  },
  {
   "cell_type": "code",
   "execution_count": null,
   "metadata": {},
   "outputs": [],
   "source": [
    "# 초기 변수 설정\n",
    "string_to_id = {}  # 문자열을 ID로 매핑하는 딕셔너리\n",
    "id_to_score = {}   # ID를 score로 매핑하는 딕셔너리\n",
    "current_id = 0     # 현재 문자열에 할당된 ID\n",
    "\n",
    "# 쿼리 횟수 입력\n",
    "Q = int(input())\n",
    "\n",
    "# 쿼리 수행\n",
    "for _ in range(Q):\n",
    "    query = input().split()\n",
    "    string = query[0].lower()  # 소문자로 변환하여 문자열 추출\n",
    "    score = int(query[1])\n",
    "\n",
    "    # 문자열이 이미 등록된 경우\n",
    "    if string in string_to_id:\n",
    "        id = string_to_id[string]\n",
    "        id_to_score[id] = max(id_to_score[id], score)\n",
    "    else:\n",
    "        current_id += 1\n",
    "        string_to_id[string] = current_id\n",
    "        id_to_score[current_id] = score\n",
    "\n",
    "    # ID와 score 출력\n",
    "    print(string_to_id[string], id_to_score[string_to_id[string]])\n"
   ]
  }
 ],
 "metadata": {
  "language_info": {
   "name": "python"
  },
  "orig_nbformat": 4
 },
 "nbformat": 4,
 "nbformat_minor": 2
}
