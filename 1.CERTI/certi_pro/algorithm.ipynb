{
 "cells": [
  {
   "attachments": {},
   "cell_type": "markdown",
   "metadata": {},
   "source": [
    "# Keyword\n",
    "• Function</br>\n",
    "abs(), len(), round(), sum(), max(), min()</br>\n",
    "sorted(), reversed()</br>\n",
    "map(), zip(), enumerate()\n",
    "\n",
    "• Data Type</br>\n",
    "list, deque, str, tuple, range</br>\n",
    "set, dict, defaultdict</br>\n",
    "heapq, bisect\n",
    "\n",
    "• Expression, Statement</br>\n",
    "lambda</br>\n",
    "class"
   ]
  },
  {
   "attachments": {},
   "cell_type": "markdown",
   "metadata": {},
   "source": [
    "# Algorithm\n",
    "・ hash, heap, recursion, DFS, BFS (tree, graph)</br>\n",
    "・ binary search, sqrt decomposition, LCA</br>\n",
    "・ union-find</br>\n",
    "・ calculator</br>\n",
    "・ Dijkstra"
   ]
  },
  {
   "attachments": {},
   "cell_type": "markdown",
   "metadata": {},
   "source": []
  }
 ],
 "metadata": {
  "kernelspec": {
   "display_name": "base",
   "language": "python",
   "name": "python3"
  },
  "language_info": {
   "name": "python",
   "version": "3.9.7"
  },
  "orig_nbformat": 4
 },
 "nbformat": 4,
 "nbformat_minor": 2
}
