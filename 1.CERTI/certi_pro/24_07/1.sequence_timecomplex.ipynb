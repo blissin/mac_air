{
 "cells": [
  {
   "cell_type": "code",
   "execution_count": 23,
   "metadata": {},
   "outputs": [],
   "source": [
    "filename = 'input_file.txt'\n",
    "papers = []\n",
    "with open(filename, 'r') as file:\n",
    "    n = int(file.readline().strip())  # 첫 줄에서 색종이 수 읽기\n",
    "    for _ in range(n):\n",
    "        x, y = map(int, file.readline().strip().split())\n",
    "        papers.append((x, y))"
   ]
  },
  {
   "cell_type": "code",
   "execution_count": 24,
   "metadata": {},
   "outputs": [
    {
     "data": {
      "text/plain": [
       "[(3, 7), (5, 2), (15, 7)]"
      ]
     },
     "execution_count": 24,
     "metadata": {},
     "output_type": "execute_result"
    }
   ],
   "source": [
    "papers"
   ]
  },
  {
   "cell_type": "code",
   "execution_count": 22,
   "metadata": {},
   "outputs": [
    {
     "ename": "ValueError",
     "evalue": "invalid literal for int() with base 10: '4  3 7  5 2  15 7  13 14'",
     "output_type": "error",
     "traceback": [
      "\u001b[0;31m---------------------------------------------------------------------------\u001b[0m",
      "\u001b[0;31mValueError\u001b[0m                                Traceback (most recent call last)",
      "\u001b[0;32m/var/folders/fc/lm7cy7r94tv90q6mfb7xh47m0000gn/T/ipykernel_54518/642529136.py\u001b[0m in \u001b[0;36m<module>\u001b[0;34m\u001b[0m\n\u001b[0;32m----> 1\u001b[0;31m \u001b[0mS\u001b[0m \u001b[0;34m=\u001b[0m \u001b[0mint\u001b[0m\u001b[0;34m(\u001b[0m\u001b[0minput\u001b[0m\u001b[0;34m(\u001b[0m\u001b[0;34m)\u001b[0m\u001b[0;34m)\u001b[0m\u001b[0;34m\u001b[0m\u001b[0;34m\u001b[0m\u001b[0m\n\u001b[0m\u001b[1;32m      2\u001b[0m \u001b[0;32mfor\u001b[0m \u001b[0mi\u001b[0m \u001b[0;32min\u001b[0m \u001b[0mrange\u001b[0m\u001b[0;34m(\u001b[0m\u001b[0mS\u001b[0m\u001b[0;34m)\u001b[0m\u001b[0;34m:\u001b[0m\u001b[0;34m\u001b[0m\u001b[0;34m\u001b[0m\u001b[0m\n\u001b[1;32m      3\u001b[0m     \u001b[0ma\u001b[0m \u001b[0;34m=\u001b[0m \u001b[0minput\u001b[0m\u001b[0;34m(\u001b[0m\u001b[0;34m)\u001b[0m\u001b[0;34m.\u001b[0m\u001b[0msplit\u001b[0m\u001b[0;34m(\u001b[0m\u001b[0;34m)\u001b[0m\u001b[0;34m\u001b[0m\u001b[0;34m\u001b[0m\u001b[0m\n\u001b[1;32m      4\u001b[0m     \u001b[0mprint\u001b[0m\u001b[0;34m(\u001b[0m\u001b[0ma\u001b[0m\u001b[0;34m)\u001b[0m\u001b[0;34m\u001b[0m\u001b[0;34m\u001b[0m\u001b[0m\n",
      "\u001b[0;31mValueError\u001b[0m: invalid literal for int() with base 10: '4  3 7  5 2  15 7  13 14'"
     ]
    }
   ],
   "source": [
    "S = int(input())\n",
    "for i in range(S):\n",
    "    a = input().split()\n",
    "    print(a)"
   ]
  },
  {
   "cell_type": "code",
   "execution_count": 10,
   "metadata": {},
   "outputs": [],
   "source": [
    "def calculate_perimeter(papers):\n",
    "    # 도화지 초기화 (100x100 크기)\n",
    "    canvas = [[0] * 100 for _ in range(100)]\n",
    "    \n",
    "    # 색종이 붙이기\n",
    "    for x, y in papers:\n",
    "        for i in range(x, x + 10):\n",
    "            for j in range(y, y + 10):\n",
    "                canvas[i][j] = 1\n",
    "    \n",
    "    # 둘레 계산\n",
    "    perimeter = 0\n",
    "    directions = [(-1, 0), (1, 0), (0, -1), (0, 1)]  # 상, 하, 좌, 우\n",
    "    \n",
    "    for i in range(100):\n",
    "        for j in range(100):\n",
    "            if canvas[i][j] == 1:\n",
    "                for di, dj in directions:\n",
    "                    ni, nj = i + di, j + dj\n",
    "                    if ni < 0 or ni >= 100 or nj < 0 or nj >= 100 or canvas[ni][nj] == 0:\n",
    "                        perimeter += 1\n",
    "\n",
    "    return perimeter"
   ]
  },
  {
   "cell_type": "code",
   "execution_count": 20,
   "metadata": {},
   "outputs": [
    {
     "name": "stdout",
     "output_type": "stream",
     "text": [
      "총 색종이 면적: 336\n"
     ]
    }
   ],
   "source": [
    "def calculate_area(papers):\n",
    "    # 도화지 초기화 (100x100 크기)\n",
    "    canvas = [[0] * 100 for _ in range(100)]\n",
    "    \n",
    "    # 색종이 붙이기\n",
    "    for x, y in papers:\n",
    "        for i in range(x, x + 10):\n",
    "            for j in range(y, y + 10):\n",
    "                canvas[i][j] = 1\n",
    "    \n",
    "    # 색종이가 붙여진 면적 계산\n",
    "    area = sum(sum(row) for row in canvas)\n",
    "    return area, canvas\n",
    "\n",
    "# 입력 받기\n",
    "n = int(input(\"색종이의 수: \"))\n",
    "papers = []\n",
    "for _ in range(n):\n",
    "    x, y = map(int, input().split())\n",
    "    papers.append((x, y))\n",
    "\n",
    "# 면적 계산 및 출력\n",
    "total_area, canvas = calculate_area(papers)\n",
    "print(\"총 색종이 면적:\", total_area)"
   ]
  },
  {
   "cell_type": "code",
   "execution_count": 18,
   "metadata": {},
   "outputs": [
    {
     "data": {
      "text/plain": [
       "[(3, 7), (15, 7), (5, 2)]"
      ]
     },
     "execution_count": 18,
     "metadata": {},
     "output_type": "execute_result"
    }
   ],
   "source": [
    "papers"
   ]
  },
  {
   "cell_type": "code",
   "execution_count": 21,
   "metadata": {},
   "outputs": [
    {
     "data": {
      "text/plain": [
       "96"
      ]
     },
     "execution_count": 21,
     "metadata": {},
     "output_type": "execute_result"
    }
   ],
   "source": [
    "total_perimeter = calculate_perimeter(papers)\n",
    "total_perimeter"
   ]
  }
 ],
 "metadata": {
  "kernelspec": {
   "display_name": "base",
   "language": "python",
   "name": "python3"
  },
  "language_info": {
   "codemirror_mode": {
    "name": "ipython",
    "version": 3
   },
   "file_extension": ".py",
   "mimetype": "text/x-python",
   "name": "python",
   "nbconvert_exporter": "python",
   "pygments_lexer": "ipython3",
   "version": "3.9.7"
  }
 },
 "nbformat": 4,
 "nbformat_minor": 2
}
