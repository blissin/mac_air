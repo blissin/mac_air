{
 "cells": [
  {
   "cell_type": "code",
   "execution_count": 48,
   "metadata": {},
   "outputs": [
    {
     "name": "stdout",
     "output_type": "stream",
     "text": [
      "          A         B\n",
      "0  0.785617  0.064865\n",
      "1  0.663521  0.120148\n",
      "2  0.459722  0.333339\n",
      "3  0.490951  0.904868\n",
      "4  0.214353  0.090177\n"
     ]
    },
    {
     "data": {
      "text/html": [
       "<div>\n",
       "<style scoped>\n",
       "    .dataframe tbody tr th:only-of-type {\n",
       "        vertical-align: middle;\n",
       "    }\n",
       "\n",
       "    .dataframe tbody tr th {\n",
       "        vertical-align: top;\n",
       "    }\n",
       "\n",
       "    .dataframe thead th {\n",
       "        text-align: right;\n",
       "    }\n",
       "</style>\n",
       "<table border=\"1\" class=\"dataframe\">\n",
       "  <thead>\n",
       "    <tr style=\"text-align: right;\">\n",
       "      <th></th>\n",
       "      <th>A</th>\n",
       "      <th>B</th>\n",
       "    </tr>\n",
       "  </thead>\n",
       "  <tbody>\n",
       "    <tr>\n",
       "      <th>2</th>\n",
       "      <td>0.459722</td>\n",
       "      <td>0.333339</td>\n",
       "    </tr>\n",
       "    <tr>\n",
       "      <th>4</th>\n",
       "      <td>0.214353</td>\n",
       "      <td>0.090177</td>\n",
       "    </tr>\n",
       "  </tbody>\n",
       "</table>\n",
       "</div>"
      ],
      "text/plain": [
       "          A         B\n",
       "2  0.459722  0.333339\n",
       "4  0.214353  0.090177"
      ]
     },
     "execution_count": 48,
     "metadata": {},
     "output_type": "execute_result"
    }
   ],
   "source": [
    "import numpy as np\n",
    "import pandas as pd\n",
    "df = pd.DataFrame(np.random.rand(5,2), columns=[\"A\",\"B\"])\n",
    "# df[(df[\"A\"]<.5)&(df[\"B\"]<.5)]\n",
    "print(df)\n",
    "df.query(\"A<.5 and B<.5\")\n",
    "# df[\"A\"]<0.5\n",
    "# print(df)"
   ]
  },
  {
   "cell_type": "code",
   "execution_count": 54,
   "metadata": {},
   "outputs": [
    {
     "name": "stdout",
     "output_type": "stream",
     "text": [
      "   num\n",
      "0    0\n",
      "1    1\n",
      "2    2\n",
      "3    3\n",
      "4    4\n",
      "   num  square\n",
      "0    0       0\n",
      "1    1       1\n",
      "2    2       4\n",
      "3    3       9\n",
      "4    4      16\n"
     ]
    }
   ],
   "source": [
    "df = pd.DataFrame(np.arange(5), columns=[\"num\"])\n",
    "def square(x):\n",
    "    return x**2\n",
    "print(df)\n",
    "df[\"num\"].apply(square)\n",
    "df['square'] = df.num.apply(lambda x : x**2)\n",
    "print(df)"
   ]
  },
  {
   "cell_type": "code",
   "execution_count": 55,
   "metadata": {},
   "outputs": [
    {
     "data": {
      "text/plain": [
       "'010'"
      ]
     },
     "execution_count": 55,
     "metadata": {},
     "output_type": "execute_result"
    }
   ],
   "source": [
    "def get_preprocess_phone(phone):\n",
    "    mapping_dict={\n",
    "        \"공\":\"0\",\n",
    "        \"일\":\"1\",\n",
    "        \"이\":\"2\",\n",
    "        \"삼\":\"3\",\n",
    "        \"사\":\"4\"\n",
    "    }\n",
    "    for key, value in mapping_dict.items():\n",
    "        phone = phone.replace(key, value)\n",
    "    return phone\n",
    "get_preprocess_phone(\"공1공\")"
   ]
  },
  {
   "cell_type": "code",
   "execution_count": null,
   "metadata": {},
   "outputs": [],
   "source": []
  }
 ],
 "metadata": {
  "kernelspec": {
   "display_name": "Python 3.9.12 ('upbit')",
   "language": "python",
   "name": "python3"
  },
  "language_info": {
   "codemirror_mode": {
    "name": "ipython",
    "version": 3
   },
   "file_extension": ".py",
   "mimetype": "text/x-python",
   "name": "python",
   "nbconvert_exporter": "python",
   "pygments_lexer": "ipython3",
   "version": "3.9.12"
  },
  "orig_nbformat": 4,
  "vscode": {
   "interpreter": {
    "hash": "990a98785bfc59deff0196feeedc7510c813507f472de5ed11856fca7b69db0e"
   }
  }
 },
 "nbformat": 4,
 "nbformat_minor": 2
}
