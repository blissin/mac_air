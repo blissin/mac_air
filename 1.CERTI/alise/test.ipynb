{
 "cells": [
  {
   "cell_type": "code",
   "execution_count": 1,
   "metadata": {},
   "outputs": [],
   "source": [
    "import numpy as np\n",
    "\n",
    "array = np.arange(8)\n",
    "matrix=array.reshape(2,4)"
   ]
  },
  {
   "cell_type": "code",
   "execution_count": 2,
   "metadata": {},
   "outputs": [
    {
     "data": {
      "text/plain": [
       "array([[142, 171, 173, 124, 122, 156, 140,  86, 116, 160],\n",
       "       [151, 180, 182, 133, 131, 165, 149,  95, 125, 169],\n",
       "       [100, 129, 131,  82,  80, 114,  98,  44,  74, 118],\n",
       "       [ 96, 125, 127,  78,  76, 110,  94,  40,  70, 114],\n",
       "       [ 94, 123, 125,  76,  74, 108,  92,  38,  68, 112],\n",
       "       [131, 160, 162, 113, 111, 145, 129,  75, 105, 149],\n",
       "       [ 90, 119, 121,  72,  70, 104,  88,  34,  64, 108],\n",
       "       [ 59,  88,  90,  41,  39,  73,  57,   3,  33,  77],\n",
       "       [ 93, 122, 124,  75,  73, 107,  91,  37,  67, 111],\n",
       "       [ 72, 101, 103,  54,  52,  86,  70,  16,  46,  90]])"
      ]
     },
     "execution_count": 2,
     "metadata": {},
     "output_type": "execute_result"
    }
   ],
   "source": [
    "A = np.random.randint(0,100,[1,10])\n",
    "B= np.random.randint(0,100,[10,1])\n",
    "A+B"
   ]
  }
 ],
 "metadata": {
  "kernelspec": {
   "display_name": "Python 3.9.12 ('coin')",
   "language": "python",
   "name": "python3"
  },
  "language_info": {
   "codemirror_mode": {
    "name": "ipython",
    "version": 3
   },
   "file_extension": ".py",
   "mimetype": "text/x-python",
   "name": "python",
   "nbconvert_exporter": "python",
   "pygments_lexer": "ipython3",
   "version": "3.9.12"
  },
  "orig_nbformat": 4,
  "vscode": {
   "interpreter": {
    "hash": "a77181fc8ed12697868dbe4c1d4e7aba69e7d66889fd00fd2a00ded106ef11e1"
   }
  }
 },
 "nbformat": 4,
 "nbformat_minor": 2
}
