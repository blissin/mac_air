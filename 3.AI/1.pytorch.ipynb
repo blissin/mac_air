{
 "cells": [
  {
   "cell_type": "code",
   "execution_count": null,
   "metadata": {},
   "outputs": [],
   "source": [
    "# https://github.com/teddylee777/machine-learning"
   ]
  },
  {
   "cell_type": "code",
   "execution_count": 1,
   "metadata": {},
   "outputs": [
    {
     "data": {
      "text/html": [
       "<img src=\"https://mblogthumb-phinf.pstatic.net/MjAyMDA1MjVfMTM0/MDAxNTkwMzc4MTY4MDQy.iOzxIfhew8Bsto7uqNW3QYj-k9bysF775jXYLECD6bwg.uMJ87NPURvklkXF2TXFnygaSnc32erHm_mXbnKgvO24g.PNG.nabilera1/image.png?type=w800\"/>"
      ],
      "text/plain": [
       "<IPython.core.display.Image object>"
      ]
     },
     "execution_count": 1,
     "metadata": {},
     "output_type": "execute_result"
    }
   ],
   "source": [
    "from IPython.display import Image\n",
    "\n",
    "Image(url='https://mblogthumb-phinf.pstatic.net/MjAyMDA1MjVfMTM0/MDAxNTkwMzc4MTY4MDQy.iOzxIfhew8Bsto7uqNW3QYj-k9bysF775jXYLECD6bwg.uMJ87NPURvklkXF2TXFnygaSnc32erHm_mXbnKgvO24g.PNG.nabilera1/image.png?type=w800')"
   ]
  },
  {
   "cell_type": "code",
   "execution_count": 3,
   "metadata": {},
   "outputs": [
    {
     "data": {
      "text/html": [
       "<div>\n",
       "<style scoped>\n",
       "    .dataframe tbody tr th:only-of-type {\n",
       "        vertical-align: middle;\n",
       "    }\n",
       "\n",
       "    .dataframe tbody tr th {\n",
       "        vertical-align: top;\n",
       "    }\n",
       "\n",
       "    .dataframe thead th {\n",
       "        text-align: right;\n",
       "    }\n",
       "</style>\n",
       "<table border=\"1\" class=\"dataframe\">\n",
       "  <thead>\n",
       "    <tr style=\"text-align: right;\">\n",
       "      <th></th>\n",
       "      <th>이름</th>\n",
       "      <th>그룹</th>\n",
       "      <th>소속사</th>\n",
       "      <th>성별</th>\n",
       "      <th>생년월일</th>\n",
       "      <th>키</th>\n",
       "      <th>혈액형</th>\n",
       "      <th>브랜드평판지수</th>\n",
       "    </tr>\n",
       "    <tr>\n",
       "      <th>순위</th>\n",
       "      <th></th>\n",
       "      <th></th>\n",
       "      <th></th>\n",
       "      <th></th>\n",
       "      <th></th>\n",
       "      <th></th>\n",
       "      <th></th>\n",
       "      <th></th>\n",
       "    </tr>\n",
       "  </thead>\n",
       "  <tbody>\n",
       "    <tr>\n",
       "      <th>1</th>\n",
       "      <td>지민</td>\n",
       "      <td>방탄소년단</td>\n",
       "      <td>빅히트</td>\n",
       "      <td>남자</td>\n",
       "      <td>1995-10-13</td>\n",
       "      <td>.1f</td>\n",
       "      <td>A</td>\n",
       "      <td>10523260</td>\n",
       "    </tr>\n",
       "    <tr>\n",
       "      <th>2</th>\n",
       "      <td>지드래곤</td>\n",
       "      <td>빅뱅</td>\n",
       "      <td>YG</td>\n",
       "      <td>남자</td>\n",
       "      <td>1988-08-18</td>\n",
       "      <td>.1f</td>\n",
       "      <td>A</td>\n",
       "      <td>9916947</td>\n",
       "    </tr>\n",
       "    <tr>\n",
       "      <th>3</th>\n",
       "      <td>강다니엘</td>\n",
       "      <td>NaN</td>\n",
       "      <td>커넥트</td>\n",
       "      <td>남자</td>\n",
       "      <td>1996-12-10</td>\n",
       "      <td>.1f</td>\n",
       "      <td>A</td>\n",
       "      <td>8273745</td>\n",
       "    </tr>\n",
       "    <tr>\n",
       "      <th>4</th>\n",
       "      <td>뷔</td>\n",
       "      <td>방탄소년단</td>\n",
       "      <td>빅히트</td>\n",
       "      <td>남자</td>\n",
       "      <td>1995-12-30</td>\n",
       "      <td>.1f</td>\n",
       "      <td>AB</td>\n",
       "      <td>8073501</td>\n",
       "    </tr>\n",
       "    <tr>\n",
       "      <th>5</th>\n",
       "      <td>화사</td>\n",
       "      <td>마마무</td>\n",
       "      <td>RBW</td>\n",
       "      <td>여자</td>\n",
       "      <td>1995-07-23</td>\n",
       "      <td>.1f</td>\n",
       "      <td>A</td>\n",
       "      <td>7650928</td>\n",
       "    </tr>\n",
       "    <tr>\n",
       "      <th>6</th>\n",
       "      <td>정국</td>\n",
       "      <td>방탄소년단</td>\n",
       "      <td>빅히트</td>\n",
       "      <td>남자</td>\n",
       "      <td>1997-09-01</td>\n",
       "      <td>.1f</td>\n",
       "      <td>A</td>\n",
       "      <td>5208335</td>\n",
       "    </tr>\n",
       "    <tr>\n",
       "      <th>7</th>\n",
       "      <td>민현</td>\n",
       "      <td>뉴이스트</td>\n",
       "      <td>플레디스</td>\n",
       "      <td>남자</td>\n",
       "      <td>1995-08-09</td>\n",
       "      <td>.1f</td>\n",
       "      <td>O</td>\n",
       "      <td>4989792</td>\n",
       "    </tr>\n",
       "    <tr>\n",
       "      <th>8</th>\n",
       "      <td>소연</td>\n",
       "      <td>아이들</td>\n",
       "      <td>큐브</td>\n",
       "      <td>여자</td>\n",
       "      <td>1998-08-26</td>\n",
       "      <td>.1f</td>\n",
       "      <td>B</td>\n",
       "      <td>4668615</td>\n",
       "    </tr>\n",
       "    <tr>\n",
       "      <th>9</th>\n",
       "      <td>진</td>\n",
       "      <td>방탄소년단</td>\n",
       "      <td>빅히트</td>\n",
       "      <td>남자</td>\n",
       "      <td>1992-12-04</td>\n",
       "      <td>.1f</td>\n",
       "      <td>O</td>\n",
       "      <td>4570308</td>\n",
       "    </tr>\n",
       "    <tr>\n",
       "      <th>10</th>\n",
       "      <td>하성운</td>\n",
       "      <td>핫샷</td>\n",
       "      <td>스타크루이엔티</td>\n",
       "      <td>남자</td>\n",
       "      <td>1994-03-22</td>\n",
       "      <td>.1f</td>\n",
       "      <td>A</td>\n",
       "      <td>4036489</td>\n",
       "    </tr>\n",
       "    <tr>\n",
       "      <th>11</th>\n",
       "      <td>태연</td>\n",
       "      <td>소녀시대</td>\n",
       "      <td>SM</td>\n",
       "      <td>여자</td>\n",
       "      <td>1989-03-09</td>\n",
       "      <td>.1f</td>\n",
       "      <td>A</td>\n",
       "      <td>3918661</td>\n",
       "    </tr>\n",
       "    <tr>\n",
       "      <th>12</th>\n",
       "      <td>차은우</td>\n",
       "      <td>아스트로</td>\n",
       "      <td>판타지오</td>\n",
       "      <td>남자</td>\n",
       "      <td>1997-03-30</td>\n",
       "      <td>.1f</td>\n",
       "      <td>B</td>\n",
       "      <td>3506027</td>\n",
       "    </tr>\n",
       "    <tr>\n",
       "      <th>13</th>\n",
       "      <td>백호</td>\n",
       "      <td>뉴이스트</td>\n",
       "      <td>플레디스</td>\n",
       "      <td>남자</td>\n",
       "      <td>1995-07-21</td>\n",
       "      <td>.1f</td>\n",
       "      <td>AB</td>\n",
       "      <td>3301654</td>\n",
       "    </tr>\n",
       "    <tr>\n",
       "      <th>14</th>\n",
       "      <td>JR</td>\n",
       "      <td>뉴이스트</td>\n",
       "      <td>플레디스</td>\n",
       "      <td>남자</td>\n",
       "      <td>1995-06-08</td>\n",
       "      <td>.1f</td>\n",
       "      <td>O</td>\n",
       "      <td>3274137</td>\n",
       "    </tr>\n",
       "    <tr>\n",
       "      <th>15</th>\n",
       "      <td>슈가</td>\n",
       "      <td>방탄소년단</td>\n",
       "      <td>빅히트</td>\n",
       "      <td>남자</td>\n",
       "      <td>1993-03-09</td>\n",
       "      <td>.1f</td>\n",
       "      <td>O</td>\n",
       "      <td>2925442</td>\n",
       "    </tr>\n",
       "  </tbody>\n",
       "</table>\n",
       "</div>"
      ],
      "text/plain": [
       "      이름     그룹      소속사  성별        생년월일   키 혈액형   브랜드평판지수\n",
       "순위                                                        \n",
       "1     지민  방탄소년단      빅히트  남자  1995-10-13 .1f   A  10523260\n",
       "2   지드래곤     빅뱅       YG  남자  1988-08-18 .1f   A   9916947\n",
       "3   강다니엘    NaN      커넥트  남자  1996-12-10 .1f   A   8273745\n",
       "4      뷔  방탄소년단      빅히트  남자  1995-12-30 .1f  AB   8073501\n",
       "5     화사    마마무      RBW  여자  1995-07-23 .1f   A   7650928\n",
       "6     정국  방탄소년단      빅히트  남자  1997-09-01 .1f   A   5208335\n",
       "7     민현   뉴이스트     플레디스  남자  1995-08-09 .1f   O   4989792\n",
       "8     소연    아이들       큐브  여자  1998-08-26 .1f   B   4668615\n",
       "9      진  방탄소년단      빅히트  남자  1992-12-04 .1f   O   4570308\n",
       "10   하성운     핫샷  스타크루이엔티  남자  1994-03-22 .1f   A   4036489\n",
       "11    태연   소녀시대       SM  여자  1989-03-09 .1f   A   3918661\n",
       "12   차은우   아스트로     판타지오  남자  1997-03-30 .1f   B   3506027\n",
       "13    백호   뉴이스트     플레디스  남자  1995-07-21 .1f  AB   3301654\n",
       "14    JR   뉴이스트     플레디스  남자  1995-06-08 .1f   O   3274137\n",
       "15    슈가  방탄소년단      빅히트  남자  1993-03-09 .1f   O   2925442"
      ]
     },
     "execution_count": 3,
     "metadata": {},
     "output_type": "execute_result"
    }
   ],
   "source": [
    "import pandas as pd\n",
    "\n",
    "pd.set_option('display.float_format', lambda x:'.1f' %x)\n",
    "data = pd.read_csv('http://bit.ly/ld-sample-idol', index_col='순위')\n",
    "data"
   ]
  },
  {
   "cell_type": "code",
   "execution_count": 1,
   "metadata": {},
   "outputs": [
    {
     "data": {
      "text/plain": [
       "'1.13.1'"
      ]
     },
     "execution_count": 1,
     "metadata": {},
     "output_type": "execute_result"
    }
   ],
   "source": [
    "import torch\n",
    "import numpy as np\n",
    "torch.__version__"
   ]
  },
  {
   "cell_type": "code",
   "execution_count": 2,
   "metadata": {},
   "outputs": [
    {
     "data": {
      "text/plain": [
       "array([0, 1, 2, 3, 4])"
      ]
     },
     "execution_count": 2,
     "metadata": {},
     "output_type": "execute_result"
    }
   ],
   "source": [
    "arr = np.arange(0,5)\n",
    "arr"
   ]
  },
  {
   "cell_type": "code",
   "execution_count": 6,
   "metadata": {},
   "outputs": [
    {
     "data": {
      "text/plain": [
       "tensor([0, 1, 2, 3, 4])"
      ]
     },
     "execution_count": 6,
     "metadata": {},
     "output_type": "execute_result"
    }
   ],
   "source": [
    "t1 = torch.from_numpy(arr)\n",
    "t1\n",
    "t2 = torch.as_tensor(arr)\n",
    "t2\n",
    "t3 = torch.tensor(arr)\n",
    "t3"
   ]
  },
  {
   "cell_type": "code",
   "execution_count": 9,
   "metadata": {},
   "outputs": [
    {
     "name": "stdout",
     "output_type": "stream",
     "text": [
      "tensor([0, 1, 2, 3, 4])\n",
      "tensor([ 2.,  4.,  6.,  8., 10.])\n"
     ]
    }
   ],
   "source": [
    "a = torch.arange(5)\n",
    "print(a)\n",
    "b = torch.linspace(2,10,5)\n",
    "print(b)"
   ]
  }
 ],
 "metadata": {
  "kernelspec": {
   "display_name": "ML",
   "language": "python",
   "name": "python3"
  },
  "language_info": {
   "codemirror_mode": {
    "name": "ipython",
    "version": 3
   },
   "file_extension": ".py",
   "mimetype": "text/x-python",
   "name": "python",
   "nbconvert_exporter": "python",
   "pygments_lexer": "ipython3",
   "version": "3.9.18"
  }
 },
 "nbformat": 4,
 "nbformat_minor": 2
}
