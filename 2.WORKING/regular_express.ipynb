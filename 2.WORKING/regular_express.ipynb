{
 "cells": [
  {
   "cell_type": "code",
   "execution_count": 2,
   "metadata": {},
   "outputs": [
    {
     "ename": "SystemExit",
     "evalue": "0",
     "output_type": "error",
     "traceback": [
      "An exception has occurred, use %tb to see the full traceback.\n",
      "\u001b[0;31mSystemExit\u001b[0m\u001b[0;31m:\u001b[0m 0\n"
     ]
    }
   ],
   "source": [
    "import sys\n",
    "from PyQt5.QtWidgets import QApplication, QMainWindow, QComboBox, QVBoxLayout, QWidget, QLineEdit\n",
    "from PyQt5.QtCore import Qt\n",
    "\n",
    "class SearchableComboBox(QMainWindow):\n",
    "    def __init__(self):\n",
    "        super().__init__()\n",
    "\n",
    "        self.initUI()\n",
    "\n",
    "    def initUI(self):\n",
    "        self.setWindowTitle('Searchable ComboBox')\n",
    "\n",
    "        # 위젯을 담을 수 있는 레이아웃 생성\n",
    "        layout = QVBoxLayout()\n",
    "\n",
    "        # 콤보 박스 생성\n",
    "        self.comboBox = QComboBox(self)\n",
    "\n",
    "        # 텍스트 목록 추가\n",
    "        self.comboBox.addItem(\"Apple\")\n",
    "        self.comboBox.addItem(\"Banana\")\n",
    "        self.comboBox.addItem(\"Cherry\")\n",
    "        self.comboBox.addItem(\"Grape\")\n",
    "        self.comboBox.addItem(\"Lemon\")\n",
    "        self.comboBox.addItem(\"Orange\")\n",
    "        self.comboBox.addItem(\"Strawberry\")\n",
    "        self.comboBox.addItem(\"Watermelon\")\n",
    "\n",
    "        # 콤보 박스 위젯을 레이아웃에 추가\n",
    "        layout.addWidget(self.comboBox)\n",
    "\n",
    "        # 검색 기능을 위한 QLineEdit 위젯 생성\n",
    "        self.searchLineEdit = QLineEdit(self)\n",
    "        self.searchLineEdit.setPlaceholderText(\"Search...\")\n",
    "\n",
    "        # 검색 기능을 위한 시그널 및 슬롯 연결\n",
    "        self.searchLineEdit.textChanged.connect(self.searchComboBox)\n",
    "\n",
    "        # QLineEdit 위젯을 레이아웃에 추가\n",
    "        layout.addWidget(self.searchLineEdit)\n",
    "\n",
    "        # 레이아웃을 QWidget에 설정\n",
    "        container = QWidget(self)\n",
    "        container.setLayout(layout)\n",
    "\n",
    "        # QMainWindow에 위젯 설정\n",
    "        self.setCentralWidget(container)\n",
    "\n",
    "    def searchComboBox(self, text):\n",
    "        # 콤보 박스에서 SQL 스타일의 검색 수행\n",
    "        self.comboBox.setCurrentIndex(self.comboBox.findText(text, Qt.MatchWildcard))\n",
    "\n",
    "def main():\n",
    "    app = QApplication(sys.argv)\n",
    "    window = SearchableComboBox()\n",
    "    window.show()\n",
    "    \n",
    "    sys.exit(app.exec_())\n",
    "\n",
    "if __name__ == '__main__':\n",
    "    main()\n"
   ]
  },
  {
   "cell_type": "code",
   "execution_count": 1,
   "metadata": {},
   "outputs": [
    {
     "name": "stdout",
     "output_type": "stream",
     "text": [
      "['apple', 'applesauce']\n"
     ]
    }
   ],
   "source": [
    "import re\n",
    "\n",
    "# 패턴 설정\n",
    "pattern = \"pple.*\"\n",
    "\n",
    "# 검색할 리스트\n",
    "my_list = [\"apple\", \"applesauce\", \"banana\", \"cherry\"]\n",
    "\n",
    "# 패턴과 일치하는 항목 찾기\n",
    "matches = [item for item in my_list if re.search(pattern, item)]\n",
    "\n",
    "print(matches)\n"
   ]
  },
  {
   "cell_type": "code",
   "execution_count": 5,
   "metadata": {},
   "outputs": [
    {
     "ename": "SystemExit",
     "evalue": "0",
     "output_type": "error",
     "traceback": [
      "An exception has occurred, use %tb to see the full traceback.\n",
      "\u001b[0;31mSystemExit\u001b[0m\u001b[0;31m:\u001b[0m 0\n"
     ]
    }
   ],
   "source": [
    "import sys\n",
    "from PyQt5.QtWidgets import QApplication, QMainWindow, QListView, QVBoxLayout, QWidget, QLineEdit\n",
    "from PyQt5.QtGui import QStandardItemModel, QStandardItem\n",
    "\n",
    "\n",
    "class SearchableListView(QMainWindow):\n",
    "    def __init__(self):\n",
    "        super().__init__()\n",
    "\n",
    "        self.initUI()\n",
    "\n",
    "    def initUI(self):\n",
    "        self.setWindowTitle('Searchable ListView')\n",
    "\n",
    "        # 위젯을 담을 수 있는 레이아웃 생성\n",
    "        layout = QVBoxLayout()\n",
    "\n",
    "        # 검색 기능을 위한 QLineEdit 위젯 생성\n",
    "        self.searchLineEdit = QLineEdit(self)\n",
    "        self.searchLineEdit.setPlaceholderText(\"Search...\")\n",
    "\n",
    "        # 검색 기능을 위한 시그널 및 슬롯 연결\n",
    "        self.searchLineEdit.textChanged.connect(self.searchItems)\n",
    "\n",
    "        # QListView 위젯 생성\n",
    "        self.listView = QListView(self)\n",
    "\n",
    "        # QStandardItemModel 생성\n",
    "        self.model = QStandardItemModel()\n",
    "        self.listView.setModel(self.model)\n",
    "\n",
    "        # 아이템 추가\n",
    "        items = [\"Apple\", \"Banana\", \"Cherry\", \"Grape\", \"Lemon\", \"Orange\", \"Strawberry\", \"Watermelon\"]\n",
    "        for item in items:\n",
    "            self.model.appendRow(QStandardItem(item))\n",
    "\n",
    "        # QLineEdit 위젯과 QListView 위젯을 레이아웃에 추가\n",
    "        layout.addWidget(self.searchLineEdit)\n",
    "        layout.addWidget(self.listView)\n",
    "\n",
    "        # 레이아웃을 QWidget에 설정\n",
    "        container = QWidget(self)\n",
    "        container.setLayout(layout)\n",
    "\n",
    "        # QMainWindow에 위젯 설정\n",
    "        self.setCentralWidget(container)\n",
    "\n",
    "    def searchItems(self, text):\n",
    "        # 입력된 텍스트로 아이템 필터링\n",
    "        self.model.clear()  # 기존 아이템을 모두 제거\n",
    "\n",
    "        items = [\"Apple\", \"Banana\", \"Cherry\", \"Grape\", \"Lemon\", \"Orange\", \"Strawberry\", \"Watermelon\"]\n",
    "        for item in items:\n",
    "            if text.lower() in item.lower():  # 부분적으로 일치하는 아이템 찾기\n",
    "                self.model.appendRow(QStandardItem(item))\n",
    "\n",
    "def main():\n",
    "    app = QApplication(sys.argv)\n",
    "    window = SearchableListView()\n",
    "    window.show()\n",
    "    sys.exit(app.exec_())\n",
    "\n",
    "if __name__ == '__main__':\n",
    "    main()\n"
   ]
  },
  {
   "cell_type": "code",
   "execution_count": null,
   "metadata": {},
   "outputs": [],
   "source": []
  },
  {
   "cell_type": "code",
   "execution_count": null,
   "metadata": {},
   "outputs": [],
   "source": []
  }
 ],
 "metadata": {
  "kernelspec": {
   "display_name": "base",
   "language": "python",
   "name": "python3"
  },
  "language_info": {
   "codemirror_mode": {
    "name": "ipython",
    "version": 3
   },
   "file_extension": ".py",
   "mimetype": "text/x-python",
   "name": "python",
   "nbconvert_exporter": "python",
   "pygments_lexer": "ipython3",
   "version": "3.9.7"
  },
  "orig_nbformat": 4
 },
 "nbformat": 4,
 "nbformat_minor": 2
}
