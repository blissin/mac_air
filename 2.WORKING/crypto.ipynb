{
 "cells": [
  {
   "cell_type": "code",
   "execution_count": 1,
   "metadata": {},
   "outputs": [],
   "source": [
    "import os\n",
    "from cryptography.fernet import Fernet\n",
    "\n",
    "# 키 생성 및 저장\n",
    "def generate_key():\n",
    "    key = Fernet.generate_key()\n",
    "    with open(\"encryption_key.txt\", \"wb\") as key_file:\n",
    "        key_file.write(key)\n",
    "\n",
    "generate_key()"
   ]
  },
  {
   "cell_type": "code",
   "execution_count": 4,
   "metadata": {},
   "outputs": [
    {
     "data": {
      "text/plain": [
       "b'NeDiRRaD0MVpURZg0_CbIFeEANhAbCw6rltpig-SfMI='"
      ]
     },
     "execution_count": 4,
     "metadata": {},
     "output_type": "execute_result"
    }
   ],
   "source": [
    "def load_key():\n",
    "    with open(\"encryption_key.txt\", \"rb\") as key_file:\n",
    "        return key_file.read()\n",
    "\n",
    "key = load_key()\n",
    "key"
   ]
  },
  {
   "cell_type": "code",
   "execution_count": 8,
   "metadata": {},
   "outputs": [],
   "source": [
    "def encrypt_folder(file_path, key):\n",
    "    f = Fernet(key)\n",
    "    with open(file_path, \"rb\") as file:\n",
    "        data = file.read()\n",
    "    encrypted_data = f.encrypt(data)\n",
    "    with open(file_path, \"wb\") as file:\n",
    "        file.write(encrypted_data)"
   ]
  },
  {
   "cell_type": "code",
   "execution_count": 14,
   "metadata": {},
   "outputs": [],
   "source": [
    "file_path = 'C:/Users/shj82/Desktop/mac_air/2.WORKING/workwork/dist/samsung_scheme.exe'"
   ]
  },
  {
   "cell_type": "code",
   "execution_count": 21,
   "metadata": {},
   "outputs": [],
   "source": [
    "f = Fernet(key)\n",
    "with open(file_path, \"rb\") as file:\n",
    "    data = file.read()\n",
    "encrypted_data = f.encrypt(data)\n",
    "with open(file_path, \"wb\") as file:\n",
    "    file.write(encrypted_data)"
   ]
  },
  {
   "cell_type": "code",
   "execution_count": 27,
   "metadata": {},
   "outputs": [],
   "source": [
    "f = Fernet(key)\n",
    "with open(file_path, \"rb\") as file:\n",
    "    encrypted_data = file.read()\n",
    "decrypted_data = f.decrypt(encrypted_data)\n",
    "with open(file_path, \"wb\") as file:\n",
    "    file.write(decrypted_data)"
   ]
  },
  {
   "cell_type": "code",
   "execution_count": 26,
   "metadata": {},
   "outputs": [],
   "source": [
    "import subprocess\n",
    "\n",
    "try:\n",
    "    f = Fernet(key)\n",
    "    with open(file_path, \"rb\") as file:\n",
    "        encrypted_data = file.read()\n",
    "    decrypted_data = f.decrypt(encrypted_data)\n",
    "    with open(file_path, \"wb\") as file:\n",
    "        file.write(decrypted_data)\n",
    "except:\n",
    "    pass\n",
    "    \n",
    "# subprocess.run(['python', 'C:/Users/shj82/Desktop/mac_air/2.WORKING/workwork/samsung_scheme.py'])\n",
    "subprocess.run('C:/Users/shj82/Desktop/mac_air/2.WORKING/workwork/dist/samsung_scheme.exe')\n",
    "\n",
    "f = Fernet(key)\n",
    "with open(file_path, \"rb\") as file:\n",
    "    encrypted_data = file.read()\n",
    "decrypted_data = f.encrypt(encrypted_data)\n",
    "with open(file_path, \"wb\") as file:\n",
    "    file.write(decrypted_data)"
   ]
  }
 ],
 "metadata": {
  "kernelspec": {
   "display_name": "base",
   "language": "python",
   "name": "python3"
  },
  "language_info": {
   "codemirror_mode": {
    "name": "ipython",
    "version": 3
   },
   "file_extension": ".py",
   "mimetype": "text/x-python",
   "name": "python",
   "nbconvert_exporter": "python",
   "pygments_lexer": "ipython3",
   "version": "3.9.7"
  },
  "orig_nbformat": 4
 },
 "nbformat": 4,
 "nbformat_minor": 2
}
