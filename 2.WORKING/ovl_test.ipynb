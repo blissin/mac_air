{
 "cells": [
  {
   "cell_type": "code",
   "execution_count": null,
   "metadata": {},
   "outputs": [],
   "source": [
    "import numpy as np\n",
    "from sklearn.linear_model import LinearRegression\n",
    "import matplotlib.pyplot as plt\n",
    "\n",
    "# 가상의 x, y 좌표 및 오버레이 오차 데이터 생성\n",
    "x = np.array([1.0, 2.0, 3.0, 4.0, 5.0])  # x 좌표\n",
    "y = np.array([2.0, 3.0, 3.5, 4.0, 5.0])  # y 좌표\n",
    "overlay_error = np.array([0.1, 0.2, 0.3, 0.4, 0.5])  # 오버레이 오차 데이터\n",
    "\n",
    "# x, y 벡터 생성\n",
    "x_vector = np.array([1.1, 2.2, 3.1, 4.3, 5.2])  # x 벡터\n",
    "y_vector = np.array([2.1, 3.1, 3.6, 4.1, 5.2])  # y 벡터\n",
    "\n",
    "# Linear Regression 모델 생성\n",
    "model = LinearRegression()\n",
    "\n",
    "# 데이터를 모델에 맞춤\n",
    "data = np.column_stack((x, y, x_vector, y_vector))\n",
    "\n",
    "# 데이터를 모델에 맞춤\n",
    "model.fit(data, overlay_error)\n",
    "\n",
    "# 모델 파라미터(회귀 계수) 출력\n",
    "print(\"모델의 기울기(회귀 계수):\", model.coef_)\n",
    "print(\"모델의 절편: (회귀 계수):\", model.intercept_)\n",
    "\n",
    "# 보정된 오버레이 오차 계산\n",
    "corrected_overlay_error = overlay_error - model.predict(data)\n",
    "\n",
    "# Quiver plot을 사용하여 벡터 시각화\n",
    "plt.figure(figsize=(8, 6))\n",
    "plt.quiver(x, y, x_vector, y_vector, angles='xy', scale_units='xy', scale=10, color='b', label='Original Vectors')\n",
    "plt.quiver(x, y, x_vector, y_vector - model.coef_[2] * x_vector - model.coef_[3] * y_vector, angles='xy', scale_units='xy', scale=20, color='r',label='Corrected Vectors')\n",
    "plt.xlabel('X Coordinate')\n",
    "plt.ylabel('Y Coordinate')\n",
    "plt.title('Overlay Error Correction with Quiver Plot')\n",
    "plt.legend()\n",
    "plt.grid()\n",
    "plt.show()\n"
   ]
  },
  {
   "cell_type": "code",
   "execution_count": 41,
   "metadata": {},
   "outputs": [
    {
     "data": {
      "image/png": "[encoded data removed]",
      "text/plain": [
       "<Figure size 432x288 with 1 Axes>"
      ]
     },
     "metadata": {
      "needs_background": "light"
     },
     "output_type": "display_data"
    }
   ],
   "source": [
    "import numpy as np\n",
    "import matplotlib.pyplot as plt\n",
    "\n",
    "# 웨이퍼 크기와 샷 크기 정의 (300mm 웨이퍼, 25mm x 32mm 샷)\n",
    "wafer_size = (300, 300)  # 웨이퍼 크기 (300mm x 300mm)\n",
    "shot_size = (25, 32)    # 샷 크기 (25mm x 32mm)\n",
    "\n",
    "# 웨이퍼 중심 좌표\n",
    "wafer_center = (0, 0)\n",
    "\n",
    "# 웨이퍼를 그립니다.\n",
    "wafer_circle = plt.Circle(wafer_center, wafer_size[0] / 2, color='lightgray', fill=False)\n",
    "plt.gca().add_patch(wafer_circle)\n",
    "\n",
    "# 샷 좌표 생성\n",
    "x_shots = np.arange(-wafer_size[0] / 2, wafer_size[0] / 2, shot_size[0])\n",
    "y_shots = np.arange(-wafer_size[1] / 2, wafer_size[1] / 2, shot_size[1])\n",
    "\n",
    "# 샷 외곽을 대시로 표현\n",
    "for x in x_shots:\n",
    "    for y in y_shots:\n",
    "        plt.plot([x - shot_size[0] / 2, x + shot_size[0] / 2, x + shot_size[0] / 2, x - shot_size[0] / 2, x - shot_size[0] / 2],\n",
    "                 [y - shot_size[1] / 2, y - shot_size[1] / 2, y + shot_size[1] / 2, y + shot_size[1] / 2, y - shot_size[1] / 2], 'k--')\n",
    "\n",
    "# 30개의 동일한 좌표 생성\n",
    "num_random_points = 30\n",
    "random_points = [[np.random.uniform(-shot_size[0] / 2, shot_size[0] / 2), np.random.uniform(-shot_size[1] / 2, shot_size[1] / 2)] for _ in range(num_random_points)]\n",
    "\n",
    "# 특정 샷에 30개의 동일한 좌표를 추가\n",
    "x_shot_with_points = x_shots[5]  # 예시로 특정 샷을 선택\n",
    "y_shot_with_points = y_shots[3]\n",
    "\n",
    "x_points_in_shot = [point[0] for point in random_points]\n",
    "y_points_in_shot = [point[1] for point in random_points]\n",
    "\n",
    "# 샷을 함께 시각화\n",
    "plt.scatter(x_points_in_shot, y_points_in_shot, s=10, marker='o', c='r', label='Identical Points in One Shot')\n",
    "plt.xlabel('X Coordinate (mm)')\n",
    "plt.ylabel('Y Coordinate (mm)')\n",
    "plt.title('One Shot with Identical Points on 300mm Wafer')\n",
    "plt.grid()\n",
    "plt.legend()\n",
    "plt.axis('equal')\n",
    "plt.show()\n"
   ]
  },
  {
   "cell_type": "code",
   "execution_count": 43,
   "metadata": {},
   "outputs": [
    {
     "data": {
      "text/plain": [
       "array([-150., -118.,  -86.,  -54.,  -22.,   10.,   42.,   74.,  106.,\n",
       "        138.])"
      ]
     },
     "execution_count": 43,
     "metadata": {},
     "output_type": "execute_result"
    }
   ],
   "source": [
    "y_shots"
   ]
  },
  {
   "cell_type": "code",
   "execution_count": null,
   "metadata": {},
   "outputs": [],
   "source": []
  },
  {
   "cell_type": "code",
   "execution_count": null,
   "metadata": {},
   "outputs": [],
   "source": []
  },
  {
   "cell_type": "code",
   "execution_count": null,
   "metadata": {},
   "outputs": [],
   "source": []
  }
 ],
 "metadata": {
  "kernelspec": {
   "display_name": "base",
   "language": "python",
   "name": "python3"
  },
  "language_info": {
   "codemirror_mode": {
    "name": "ipython",
    "version": 3
   },
   "file_extension": ".py",
   "mimetype": "text/x-python",
   "name": "python",
   "nbconvert_exporter": "python",
   "pygments_lexer": "ipython3",
   "version": "3.9.7"
  },
  "orig_nbformat": 4
 },
 "nbformat": 4,
 "nbformat_minor": 2
}
