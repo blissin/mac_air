{
 "cells": [
  {
   "cell_type": "code",
   "execution_count": 2,
   "metadata": {},
   "outputs": [
    {
     "ename": "",
     "evalue": "",
     "output_type": "error",
     "traceback": [
      "\u001b[1;31mThe Kernel crashed while executing code in the the current cell or a previous cell. Please review the code in the cell(s) to identify a possible cause of the failure. Click <a href='https://aka.ms/vscodeJupyterKernelCrash'>here</a> for more info. View Jupyter <a href='command:jupyter.viewOutput'>log</a> for further details."
     ]
    }
   ],
   "source": [
    "import sys\n",
    "from PyQt5.QtCore import Qt\n",
    "from PyQt5.QtWidgets import QApplication, QMainWindow, QComboBox, QListView, QAbstractItemView\n",
    "\n",
    "class MultiSelectComboBox(QComboBox):\n",
    "    def __init__(self, items):\n",
    "        super(MultiSelectComboBox, self).__init__()\n",
    "        self.items = items\n",
    "        self.setView(QListView())\n",
    "        self.view().setSelectionMode(QAbstractItemView.MultiSelection)\n",
    "        self.setEditable(True)\n",
    "        self.lineEdit().setReadOnly(True)\n",
    "        self.lineEdit().setAlignment(Qt.AlignLeft)\n",
    "\n",
    "        for item in items:\n",
    "            self.addItem(item)\n",
    "\n",
    "if __name__ == '__main__':\n",
    "    app = QApplication(sys.argv)\n",
    "    window = QMainWindow()\n",
    "    window.setGeometry(100, 100, 300, 50)\n",
    "\n",
    "    combo = MultiSelectComboBox([\"Option 1\", \"Option 2\", \"Option 3\", \"Option 4\"])\n",
    "    combo.setGeometry(10, 10, 150, 30)\n",
    "\n",
    "    window.show()\n",
    "    sys.exit(app.exec_())\n"
   ]
  },
  {
   "cell_type": "code",
   "execution_count": null,
   "metadata": {},
   "outputs": [],
   "source": []
  },
  {
   "cell_type": "code",
   "execution_count": null,
   "metadata": {},
   "outputs": [],
   "source": []
  },
  {
   "cell_type": "code",
   "execution_count": null,
   "metadata": {},
   "outputs": [],
   "source": []
  },
  {
   "cell_type": "code",
   "execution_count": null,
   "metadata": {},
   "outputs": [],
   "source": []
  }
 ],
 "metadata": {
  "kernelspec": {
   "display_name": "base",
   "language": "python",
   "name": "python3"
  },
  "language_info": {
   "codemirror_mode": {
    "name": "ipython",
    "version": 3
   },
   "file_extension": ".py",
   "mimetype": "text/x-python",
   "name": "python",
   "nbconvert_exporter": "python",
   "pygments_lexer": "ipython3",
   "version": "3.9.7"
  },
  "orig_nbformat": 4
 },
 "nbformat": 4,
 "nbformat_minor": 2
}
